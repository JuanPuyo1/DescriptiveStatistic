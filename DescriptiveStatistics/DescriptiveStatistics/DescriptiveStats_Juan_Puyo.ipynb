{
 "cells": [
  {
   "cell_type": "markdown",
   "metadata": {
    "id": "6FXvTknnwxMa"
   },
   "source": [
    "### Descriptive Statistics \n",
    "#### Juan Esteban Puyo\n",
    "#### Data Analytics, 2021-2S\n"
   ]
  },
  {
   "cell_type": "markdown",
   "metadata": {
    "id": "_tXLs6IYwxMc"
   },
   "source": [
    "### Some data load examples"
   ]
  },
  {
   "cell_type": "markdown",
   "metadata": {
    "id": "zgnEYarcwxMc"
   },
   "source": [
    "The first step in data analysis is to collect data and arrange it in a convenient format for further analytic processes. The next line indicates how to load and save files with special formats."
   ]
  },
  {
   "cell_type": "code",
   "execution_count": 2,
   "metadata": {
    "id": "f-IT9x56wxMd"
   },
   "outputs": [],
   "source": [
    "#En español\n",
    "#Aproximacion del sistema a traves de los datos\n",
    "#Es importante en problemas en los que no se tienen mucho conocimiento previo\n",
    "#Los datos aportan el conocimiento\n",
    "#Panda provee un elemento principal, DataFrame\n",
    "import pandas as pd\n",
    "#Pyplot, ofrece herramientas de visualizacion\n",
    "import matplotlib.pyplot as plt\n",
    "#Seaborn, manejo avanzando de visualizacion de datos. Creacion de modelos\n",
    "import seaborn as sb #future sessions"
   ]
  },
  {
   "cell_type": "markdown",
   "metadata": {
    "id": "p0uxizWqwxMd"
   },
   "source": [
    "##### .csv Import\n"
   ]
  },
  {
   "cell_type": "code",
   "execution_count": 3,
   "metadata": {
    "id": "fpHwcG-8wxMe",
    "scrolled": true
   },
   "outputs": [],
   "source": [
    "#valores asociados a columnas, cada fila es un registro, informacion estructurada\n",
    "dataframe1=pd.read_csv(\"Yayacon.csv\", delimiter='\\t' )"
   ]
  },
  {
   "cell_type": "code",
   "execution_count": 4,
   "metadata": {
    "colab": {
     "base_uri": "https://localhost:8080/",
     "height": 223
    },
    "id": "whzvEiMywxMe",
    "outputId": "6390db54-d098-44b3-fdf3-1ed90908af59"
   },
   "outputs": [
    {
     "data": {
      "text/html": [
       "<div>\n",
       "<style scoped>\n",
       "    .dataframe tbody tr th:only-of-type {\n",
       "        vertical-align: middle;\n",
       "    }\n",
       "\n",
       "    .dataframe tbody tr th {\n",
       "        vertical-align: top;\n",
       "    }\n",
       "\n",
       "    .dataframe thead th {\n",
       "        text-align: right;\n",
       "    }\n",
       "</style>\n",
       "<table border=\"1\" class=\"dataframe\">\n",
       "  <thead>\n",
       "    <tr style=\"text-align: right;\">\n",
       "      <th></th>\n",
       "      <th>locality</th>\n",
       "      <th>site</th>\n",
       "      <th>dose</th>\n",
       "      <th>entry</th>\n",
       "      <th>replication</th>\n",
       "      <th>height</th>\n",
       "      <th>stalks</th>\n",
       "      <th>wfr</th>\n",
       "      <th>wff</th>\n",
       "      <th>wfk</th>\n",
       "      <th>roots</th>\n",
       "      <th>FOS</th>\n",
       "      <th>glucose</th>\n",
       "      <th>fructose</th>\n",
       "      <th>sucrose</th>\n",
       "      <th>brix</th>\n",
       "      <th>foliage</th>\n",
       "      <th>dry</th>\n",
       "      <th>IH</th>\n",
       "    </tr>\n",
       "  </thead>\n",
       "  <tbody>\n",
       "    <tr>\n",
       "      <th>1</th>\n",
       "      <td>CAJ</td>\n",
       "      <td>1</td>\n",
       "      <td>F0</td>\n",
       "      <td>P1385</td>\n",
       "      <td>1</td>\n",
       "      <td>57.9</td>\n",
       "      <td>3.2</td>\n",
       "      <td>6700.0</td>\n",
       "      <td>3600.0</td>\n",
       "      <td>5490</td>\n",
       "      <td>21.9</td>\n",
       "      <td>60.2</td>\n",
       "      <td>1.74</td>\n",
       "      <td>5.0</td>\n",
       "      <td>26.66</td>\n",
       "      <td>14.8</td>\n",
       "      <td>25.6</td>\n",
       "      <td>15.6</td>\n",
       "      <td>0.3469</td>\n",
       "    </tr>\n",
       "    <tr>\n",
       "      <th>2</th>\n",
       "      <td>CAJ</td>\n",
       "      <td>1</td>\n",
       "      <td>F0</td>\n",
       "      <td>P1385</td>\n",
       "      <td>2</td>\n",
       "      <td>62.1</td>\n",
       "      <td>3.0</td>\n",
       "      <td>6450.0</td>\n",
       "      <td>2500.0</td>\n",
       "      <td>3800</td>\n",
       "      <td>21.3</td>\n",
       "      <td>60.4</td>\n",
       "      <td>1.50</td>\n",
       "      <td>4.5</td>\n",
       "      <td>28.84</td>\n",
       "      <td>15.7</td>\n",
       "      <td>27.2</td>\n",
       "      <td>17.0</td>\n",
       "      <td>0.3257</td>\n",
       "    </tr>\n",
       "    <tr>\n",
       "      <th>3</th>\n",
       "      <td>CAJ</td>\n",
       "      <td>1</td>\n",
       "      <td>F0</td>\n",
       "      <td>P1385</td>\n",
       "      <td>3</td>\n",
       "      <td>53.7</td>\n",
       "      <td>2.6</td>\n",
       "      <td>7550.0</td>\n",
       "      <td>2450.0</td>\n",
       "      <td>5360</td>\n",
       "      <td>21.8</td>\n",
       "      <td>54.5</td>\n",
       "      <td>2.14</td>\n",
       "      <td>9.3</td>\n",
       "      <td>27.06</td>\n",
       "      <td>14.3</td>\n",
       "      <td>30.0</td>\n",
       "      <td>15.9</td>\n",
       "      <td>0.3221</td>\n",
       "    </tr>\n",
       "    <tr>\n",
       "      <th>4</th>\n",
       "      <td>CAJ</td>\n",
       "      <td>1</td>\n",
       "      <td>F80</td>\n",
       "      <td>P1385</td>\n",
       "      <td>1</td>\n",
       "      <td>55.8</td>\n",
       "      <td>3.7</td>\n",
       "      <td>4120.0</td>\n",
       "      <td>2940.0</td>\n",
       "      <td>3580</td>\n",
       "      <td>17.7</td>\n",
       "      <td>58.5</td>\n",
       "      <td>2.50</td>\n",
       "      <td>8.1</td>\n",
       "      <td>25.60</td>\n",
       "      <td>12.4</td>\n",
       "      <td>27.6</td>\n",
       "      <td>13.7</td>\n",
       "      <td>0.2999</td>\n",
       "    </tr>\n",
       "    <tr>\n",
       "      <th>5</th>\n",
       "      <td>CAJ</td>\n",
       "      <td>1</td>\n",
       "      <td>F80</td>\n",
       "      <td>P1385</td>\n",
       "      <td>2</td>\n",
       "      <td>61.5</td>\n",
       "      <td>3.0</td>\n",
       "      <td>7150.0</td>\n",
       "      <td>4000.0</td>\n",
       "      <td>4560</td>\n",
       "      <td>16.8</td>\n",
       "      <td>44.2</td>\n",
       "      <td>2.80</td>\n",
       "      <td>10.6</td>\n",
       "      <td>27.90</td>\n",
       "      <td>13.0</td>\n",
       "      <td>27.5</td>\n",
       "      <td>14.5</td>\n",
       "      <td>0.2859</td>\n",
       "    </tr>\n",
       "  </tbody>\n",
       "</table>\n",
       "</div>"
      ],
      "text/plain": [
       "  locality  site dose  entry  replication  ...  sucrose  brix  foliage   dry      IH\n",
       "1      CAJ     1   F0  P1385            1  ...    26.66  14.8     25.6  15.6  0.3469\n",
       "2      CAJ     1   F0  P1385            2  ...    28.84  15.7     27.2  17.0  0.3257\n",
       "3      CAJ     1   F0  P1385            3  ...    27.06  14.3     30.0  15.9  0.3221\n",
       "4      CAJ     1  F80  P1385            1  ...    25.60  12.4     27.6  13.7  0.2999\n",
       "5      CAJ     1  F80  P1385            2  ...    27.90  13.0     27.5  14.5  0.2859\n",
       "\n",
       "[5 rows x 19 columns]"
      ]
     },
     "execution_count": 4,
     "metadata": {},
     "output_type": "execute_result"
    }
   ],
   "source": [
    "dataframe1.head()"
   ]
  },
  {
   "cell_type": "markdown",
   "metadata": {
    "id": "ep4XM8LUwxMe"
   },
   "source": [
    "#### Formatted Text Import"
   ]
  },
  {
   "cell_type": "code",
   "execution_count": 5,
   "metadata": {
    "id": "IoUJT9AtwxMe"
   },
   "outputs": [],
   "source": [
    "import pandas as pd\n",
    "df2=pd.read_csv(\"animals.txt\", delimiter='|' )"
   ]
  },
  {
   "cell_type": "code",
   "execution_count": 6,
   "metadata": {
    "colab": {
     "base_uri": "https://localhost:8080/",
     "height": 265
    },
    "id": "rzPme3IqwxMe",
    "outputId": "0cee76e1-86dc-42f7-a5e0-3303ce7686ec"
   },
   "outputs": [
    {
     "data": {
      "text/html": [
       "<div>\n",
       "<style scoped>\n",
       "    .dataframe tbody tr th:only-of-type {\n",
       "        vertical-align: middle;\n",
       "    }\n",
       "\n",
       "    .dataframe tbody tr th {\n",
       "        vertical-align: top;\n",
       "    }\n",
       "\n",
       "    .dataframe thead th {\n",
       "        text-align: right;\n",
       "    }\n",
       "</style>\n",
       "<table border=\"1\" class=\"dataframe\">\n",
       "  <thead>\n",
       "    <tr style=\"text-align: right;\">\n",
       "      <th></th>\n",
       "      <th>name</th>\n",
       "      <th>species</th>\n",
       "      <th>age</th>\n",
       "      <th>weight</th>\n",
       "    </tr>\n",
       "  </thead>\n",
       "  <tbody>\n",
       "    <tr>\n",
       "      <th>0</th>\n",
       "      <td>arun</td>\n",
       "      <td>cat</td>\n",
       "      <td>5</td>\n",
       "      <td>7.3</td>\n",
       "    </tr>\n",
       "    <tr>\n",
       "      <th>1</th>\n",
       "      <td>bob</td>\n",
       "      <td>bird</td>\n",
       "      <td>2</td>\n",
       "      <td>1.5</td>\n",
       "    </tr>\n",
       "    <tr>\n",
       "      <th>2</th>\n",
       "      <td>coco</td>\n",
       "      <td>cat</td>\n",
       "      <td>2</td>\n",
       "      <td>5.5</td>\n",
       "    </tr>\n",
       "    <tr>\n",
       "      <th>3</th>\n",
       "      <td>dumbo</td>\n",
       "      <td>elephant</td>\n",
       "      <td>23</td>\n",
       "      <td>454.0</td>\n",
       "    </tr>\n",
       "    <tr>\n",
       "      <th>4</th>\n",
       "      <td>elmo</td>\n",
       "      <td>dog</td>\n",
       "      <td>5</td>\n",
       "      <td>11.0</td>\n",
       "    </tr>\n",
       "    <tr>\n",
       "      <th>5</th>\n",
       "      <td>fido</td>\n",
       "      <td>dog</td>\n",
       "      <td>3</td>\n",
       "      <td>24.5</td>\n",
       "    </tr>\n",
       "    <tr>\n",
       "      <th>6</th>\n",
       "      <td>gumba</td>\n",
       "      <td>bird</td>\n",
       "      <td>2</td>\n",
       "      <td>2.7</td>\n",
       "    </tr>\n",
       "  </tbody>\n",
       "</table>\n",
       "</div>"
      ],
      "text/plain": [
       "    name   species  age  weight\n",
       "0   arun       cat    5     7.3\n",
       "1    bob      bird    2     1.5\n",
       "2   coco       cat    2     5.5\n",
       "3  dumbo  elephant   23   454.0\n",
       "4   elmo       dog    5    11.0\n",
       "5   fido       dog    3    24.5\n",
       "6  gumba      bird    2     2.7"
      ]
     },
     "execution_count": 6,
     "metadata": {},
     "output_type": "execute_result"
    }
   ],
   "source": [
    "df2"
   ]
  },
  {
   "cell_type": "markdown",
   "metadata": {
    "id": "AHM2k8kSwxMf"
   },
   "source": [
    "#### MS Excel import (.xlsx)  y  (.xls)"
   ]
  },
  {
   "cell_type": "code",
   "execution_count": 7,
   "metadata": {
    "id": "3ye8Iw8rwxMf"
   },
   "outputs": [],
   "source": [
    "#it is required to install the libraries 'openpyxl' and 'lxml'\n",
    "\n",
    "import pandas as pd\n",
    "df3=pd.read_excel(\"93CAR.xlsx\", sheet_name=\"Hoja1\",engine=\"openpyxl\")"
   ]
  },
  {
   "cell_type": "code",
   "execution_count": 8,
   "metadata": {
    "colab": {
     "base_uri": "https://localhost:8080/",
     "height": 257
    },
    "id": "Dvpoc__awxMf",
    "outputId": "1a8d99d8-c3e0-46ce-b2f2-7341a4f6c1d9"
   },
   "outputs": [
    {
     "data": {
      "text/html": [
       "<div>\n",
       "<style scoped>\n",
       "    .dataframe tbody tr th:only-of-type {\n",
       "        vertical-align: middle;\n",
       "    }\n",
       "\n",
       "    .dataframe tbody tr th {\n",
       "        vertical-align: top;\n",
       "    }\n",
       "\n",
       "    .dataframe thead th {\n",
       "        text-align: right;\n",
       "    }\n",
       "</style>\n",
       "<table border=\"1\" class=\"dataframe\">\n",
       "  <thead>\n",
       "    <tr style=\"text-align: right;\">\n",
       "      <th></th>\n",
       "      <th>Make</th>\n",
       "      <th>Model</th>\n",
       "      <th>Type</th>\n",
       "      <th>Min Price</th>\n",
       "      <th>Mid Price</th>\n",
       "      <th>Max Price</th>\n",
       "      <th>MPG City</th>\n",
       "      <th>MPG Highway</th>\n",
       "      <th>Air Bags</th>\n",
       "      <th>Drive Train</th>\n",
       "      <th>Cylinders</th>\n",
       "      <th>Engine Size</th>\n",
       "      <th>Horsepower</th>\n",
       "      <th>RPM</th>\n",
       "      <th>Revs per Mile</th>\n",
       "      <th>Manual</th>\n",
       "      <th>Fueltank</th>\n",
       "      <th>Passengers</th>\n",
       "      <th>Length</th>\n",
       "      <th>Wheelbase</th>\n",
       "      <th>Width</th>\n",
       "      <th>U Turn Space</th>\n",
       "      <th>Rear seat</th>\n",
       "      <th>Luggage</th>\n",
       "      <th>Weight</th>\n",
       "      <th>Domestic</th>\n",
       "    </tr>\n",
       "  </thead>\n",
       "  <tbody>\n",
       "    <tr>\n",
       "      <th>0</th>\n",
       "      <td>Acura</td>\n",
       "      <td>Integra</td>\n",
       "      <td>Small</td>\n",
       "      <td>12.9</td>\n",
       "      <td>15.9</td>\n",
       "      <td>18.8</td>\n",
       "      <td>25</td>\n",
       "      <td>31</td>\n",
       "      <td>0</td>\n",
       "      <td>front</td>\n",
       "      <td>4.0</td>\n",
       "      <td>1.8</td>\n",
       "      <td>140</td>\n",
       "      <td>6300</td>\n",
       "      <td>2890</td>\n",
       "      <td>1</td>\n",
       "      <td>13.2</td>\n",
       "      <td>5</td>\n",
       "      <td>177</td>\n",
       "      <td>102</td>\n",
       "      <td>68</td>\n",
       "      <td>37</td>\n",
       "      <td>26.5</td>\n",
       "      <td>11.0</td>\n",
       "      <td>2705</td>\n",
       "      <td>0</td>\n",
       "    </tr>\n",
       "    <tr>\n",
       "      <th>1</th>\n",
       "      <td>Acura</td>\n",
       "      <td>Legend</td>\n",
       "      <td>Midsize</td>\n",
       "      <td>29.2</td>\n",
       "      <td>33.9</td>\n",
       "      <td>38.7</td>\n",
       "      <td>18</td>\n",
       "      <td>25</td>\n",
       "      <td>2</td>\n",
       "      <td>front</td>\n",
       "      <td>6.0</td>\n",
       "      <td>3.2</td>\n",
       "      <td>200</td>\n",
       "      <td>5500</td>\n",
       "      <td>2335</td>\n",
       "      <td>1</td>\n",
       "      <td>18.0</td>\n",
       "      <td>5</td>\n",
       "      <td>195</td>\n",
       "      <td>115</td>\n",
       "      <td>71</td>\n",
       "      <td>38</td>\n",
       "      <td>30.0</td>\n",
       "      <td>15.0</td>\n",
       "      <td>3560</td>\n",
       "      <td>0</td>\n",
       "    </tr>\n",
       "    <tr>\n",
       "      <th>2</th>\n",
       "      <td>Audi</td>\n",
       "      <td>90</td>\n",
       "      <td>Compact</td>\n",
       "      <td>25.9</td>\n",
       "      <td>29.1</td>\n",
       "      <td>32.3</td>\n",
       "      <td>20</td>\n",
       "      <td>26</td>\n",
       "      <td>1</td>\n",
       "      <td>front</td>\n",
       "      <td>6.0</td>\n",
       "      <td>2.8</td>\n",
       "      <td>172</td>\n",
       "      <td>5500</td>\n",
       "      <td>2280</td>\n",
       "      <td>1</td>\n",
       "      <td>16.9</td>\n",
       "      <td>5</td>\n",
       "      <td>180</td>\n",
       "      <td>102</td>\n",
       "      <td>67</td>\n",
       "      <td>37</td>\n",
       "      <td>28.0</td>\n",
       "      <td>14.0</td>\n",
       "      <td>3375</td>\n",
       "      <td>0</td>\n",
       "    </tr>\n",
       "    <tr>\n",
       "      <th>3</th>\n",
       "      <td>Audi</td>\n",
       "      <td>100</td>\n",
       "      <td>Midsize</td>\n",
       "      <td>30.8</td>\n",
       "      <td>37.7</td>\n",
       "      <td>44.6</td>\n",
       "      <td>19</td>\n",
       "      <td>26</td>\n",
       "      <td>2</td>\n",
       "      <td>front</td>\n",
       "      <td>6.0</td>\n",
       "      <td>2.8</td>\n",
       "      <td>172</td>\n",
       "      <td>5500</td>\n",
       "      <td>2535</td>\n",
       "      <td>1</td>\n",
       "      <td>21.1</td>\n",
       "      <td>6</td>\n",
       "      <td>193</td>\n",
       "      <td>106</td>\n",
       "      <td>70</td>\n",
       "      <td>37</td>\n",
       "      <td>31.0</td>\n",
       "      <td>17.0</td>\n",
       "      <td>3405</td>\n",
       "      <td>0</td>\n",
       "    </tr>\n",
       "    <tr>\n",
       "      <th>4</th>\n",
       "      <td>BMW</td>\n",
       "      <td>535i</td>\n",
       "      <td>Midsize</td>\n",
       "      <td>23.7</td>\n",
       "      <td>30.0</td>\n",
       "      <td>36.2</td>\n",
       "      <td>22</td>\n",
       "      <td>30</td>\n",
       "      <td>1</td>\n",
       "      <td>rear</td>\n",
       "      <td>4.0</td>\n",
       "      <td>3.5</td>\n",
       "      <td>208</td>\n",
       "      <td>5700</td>\n",
       "      <td>2545</td>\n",
       "      <td>1</td>\n",
       "      <td>21.1</td>\n",
       "      <td>4</td>\n",
       "      <td>186</td>\n",
       "      <td>109</td>\n",
       "      <td>69</td>\n",
       "      <td>39</td>\n",
       "      <td>27.0</td>\n",
       "      <td>13.0</td>\n",
       "      <td>3640</td>\n",
       "      <td>0</td>\n",
       "    </tr>\n",
       "  </tbody>\n",
       "</table>\n",
       "</div>"
      ],
      "text/plain": [
       "    Make    Model     Type  Min Price  ...  Rear seat  Luggage  Weight  Domestic\n",
       "0  Acura  Integra    Small       12.9  ...       26.5     11.0    2705         0\n",
       "1  Acura   Legend  Midsize       29.2  ...       30.0     15.0    3560         0\n",
       "2   Audi       90  Compact       25.9  ...       28.0     14.0    3375         0\n",
       "3   Audi      100  Midsize       30.8  ...       31.0     17.0    3405         0\n",
       "4    BMW     535i  Midsize       23.7  ...       27.0     13.0    3640         0\n",
       "\n",
       "[5 rows x 26 columns]"
      ]
     },
     "execution_count": 8,
     "metadata": {},
     "output_type": "execute_result"
    }
   ],
   "source": [
    "df3.head()"
   ]
  },
  {
   "cell_type": "markdown",
   "metadata": {
    "id": "mQedo7pRwxMf"
   },
   "source": [
    "##### URL data import\n",
    "\n",
    "\n",
    "Pandas can read tabular data stored in hypertext documents, using the proper URL information and matching parametes, e.g."
   ]
  },
  {
   "cell_type": "markdown",
   "metadata": {
    "id": "RRFUyo4JwxMf"
   },
   "source": [
    "https://www.marketwatch.com/investing/stock/aapl/financials \n",
    "    "
   ]
  },
  {
   "cell_type": "code",
   "execution_count": 9,
   "metadata": {
    "colab": {
     "base_uri": "https://localhost:8080/",
     "height": 1000
    },
    "id": "zxDZVkFBwxMg",
    "outputId": "f281a401-cba2-430f-dc2d-8ad41266ab39"
   },
   "outputs": [
    {
     "data": {
      "text/html": [
       "<div>\n",
       "<style scoped>\n",
       "    .dataframe tbody tr th:only-of-type {\n",
       "        vertical-align: middle;\n",
       "    }\n",
       "\n",
       "    .dataframe tbody tr th {\n",
       "        vertical-align: top;\n",
       "    }\n",
       "\n",
       "    .dataframe thead th {\n",
       "        text-align: right;\n",
       "    }\n",
       "</style>\n",
       "<table border=\"1\" class=\"dataframe\">\n",
       "  <thead>\n",
       "    <tr style=\"text-align: right;\">\n",
       "      <th></th>\n",
       "      <th>Item  Item</th>\n",
       "      <th>2016</th>\n",
       "      <th>2017</th>\n",
       "      <th>2018</th>\n",
       "      <th>2019</th>\n",
       "      <th>2020</th>\n",
       "      <th>5-year trend</th>\n",
       "    </tr>\n",
       "  </thead>\n",
       "  <tbody>\n",
       "    <tr>\n",
       "      <th>0</th>\n",
       "      <td>Sales/Revenue  Sales/Revenue</td>\n",
       "      <td>89.73B</td>\n",
       "      <td>111.02B</td>\n",
       "      <td>136.96B</td>\n",
       "      <td>161.4B</td>\n",
       "      <td>182.35B</td>\n",
       "      <td>NaN</td>\n",
       "    </tr>\n",
       "    <tr>\n",
       "      <th>1</th>\n",
       "      <td>Sales Growth  Sales Growth</td>\n",
       "      <td>-</td>\n",
       "      <td>23.73%</td>\n",
       "      <td>23.36%</td>\n",
       "      <td>17.85%</td>\n",
       "      <td>12.98%</td>\n",
       "      <td>NaN</td>\n",
       "    </tr>\n",
       "    <tr>\n",
       "      <th>2</th>\n",
       "      <td>Cost of Goods Sold (COGS) incl. D&amp;A  Cost of G...</td>\n",
       "      <td>35.14B</td>\n",
       "      <td>45.58B</td>\n",
       "      <td>59.55B</td>\n",
       "      <td>71.9B</td>\n",
       "      <td>84.73B</td>\n",
       "      <td>NaN</td>\n",
       "    </tr>\n",
       "    <tr>\n",
       "      <th>3</th>\n",
       "      <td>COGS Growth  COGS Growth</td>\n",
       "      <td>-</td>\n",
       "      <td>29.73%</td>\n",
       "      <td>30.64%</td>\n",
       "      <td>20.73%</td>\n",
       "      <td>17.85%</td>\n",
       "      <td>NaN</td>\n",
       "    </tr>\n",
       "    <tr>\n",
       "      <th>4</th>\n",
       "      <td>COGS excluding D&amp;A  COGS excluding D&amp;A</td>\n",
       "      <td>28.99B</td>\n",
       "      <td>38.67B</td>\n",
       "      <td>50.51B</td>\n",
       "      <td>60.12B</td>\n",
       "      <td>71.04B</td>\n",
       "      <td>NaN</td>\n",
       "    </tr>\n",
       "    <tr>\n",
       "      <th>5</th>\n",
       "      <td>Depreciation &amp; Amortization Expense  Depreciat...</td>\n",
       "      <td>6.14B</td>\n",
       "      <td>6.92B</td>\n",
       "      <td>9.04B</td>\n",
       "      <td>11.78B</td>\n",
       "      <td>13.7B</td>\n",
       "      <td>NaN</td>\n",
       "    </tr>\n",
       "    <tr>\n",
       "      <th>6</th>\n",
       "      <td>Depreciation  Depreciation</td>\n",
       "      <td>5.27B</td>\n",
       "      <td>6.1B</td>\n",
       "      <td>8.16B</td>\n",
       "      <td>10.86B</td>\n",
       "      <td>12.91B</td>\n",
       "      <td>NaN</td>\n",
       "    </tr>\n",
       "    <tr>\n",
       "      <th>7</th>\n",
       "      <td>Amortization of Intangibles  Amortization of I...</td>\n",
       "      <td>877M</td>\n",
       "      <td>812M</td>\n",
       "      <td>871M</td>\n",
       "      <td>925M</td>\n",
       "      <td>792M</td>\n",
       "      <td>NaN</td>\n",
       "    </tr>\n",
       "    <tr>\n",
       "      <th>8</th>\n",
       "      <td>Gross Income  Gross Income</td>\n",
       "      <td>54.6B</td>\n",
       "      <td>65.44B</td>\n",
       "      <td>77.41B</td>\n",
       "      <td>89.51B</td>\n",
       "      <td>97.62B</td>\n",
       "      <td>NaN</td>\n",
       "    </tr>\n",
       "    <tr>\n",
       "      <th>9</th>\n",
       "      <td>Gross Income Growth  Gross Income Growth</td>\n",
       "      <td>-</td>\n",
       "      <td>19.87%</td>\n",
       "      <td>18.29%</td>\n",
       "      <td>15.63%</td>\n",
       "      <td>9.06%</td>\n",
       "      <td>NaN</td>\n",
       "    </tr>\n",
       "    <tr>\n",
       "      <th>10</th>\n",
       "      <td>Gross Profit Margin  Gross Profit Margin</td>\n",
       "      <td>-</td>\n",
       "      <td>-</td>\n",
       "      <td>-</td>\n",
       "      <td>-</td>\n",
       "      <td>53.53%</td>\n",
       "      <td>NaN</td>\n",
       "    </tr>\n",
       "    <tr>\n",
       "      <th>11</th>\n",
       "      <td>SG&amp;A Expense  SG&amp;A Expense</td>\n",
       "      <td>31.42B</td>\n",
       "      <td>36.39B</td>\n",
       "      <td>45.88B</td>\n",
       "      <td>54.03B</td>\n",
       "      <td>56.57B</td>\n",
       "      <td>NaN</td>\n",
       "    </tr>\n",
       "    <tr>\n",
       "      <th>12</th>\n",
       "      <td>SGA Growth  SGA Growth</td>\n",
       "      <td>-</td>\n",
       "      <td>15.83%</td>\n",
       "      <td>26.07%</td>\n",
       "      <td>17.78%</td>\n",
       "      <td>4.70%</td>\n",
       "      <td>NaN</td>\n",
       "    </tr>\n",
       "    <tr>\n",
       "      <th>13</th>\n",
       "      <td>Research &amp; Development  Research &amp; Development</td>\n",
       "      <td>13.95B</td>\n",
       "      <td>16.63B</td>\n",
       "      <td>21.42B</td>\n",
       "      <td>26.02B</td>\n",
       "      <td>27.57B</td>\n",
       "      <td>NaN</td>\n",
       "    </tr>\n",
       "    <tr>\n",
       "      <th>14</th>\n",
       "      <td>Other SG&amp;A  Other SG&amp;A</td>\n",
       "      <td>17.47B</td>\n",
       "      <td>19.77B</td>\n",
       "      <td>24.46B</td>\n",
       "      <td>28.02B</td>\n",
       "      <td>29B</td>\n",
       "      <td>NaN</td>\n",
       "    </tr>\n",
       "    <tr>\n",
       "      <th>15</th>\n",
       "      <td>Other Operating Expense  Other Operating Expense</td>\n",
       "      <td>-</td>\n",
       "      <td>-</td>\n",
       "      <td>-</td>\n",
       "      <td>-</td>\n",
       "      <td>-</td>\n",
       "      <td>NaN</td>\n",
       "    </tr>\n",
       "    <tr>\n",
       "      <th>16</th>\n",
       "      <td>Unusual Expense  Unusual Expense</td>\n",
       "      <td>375M</td>\n",
       "      <td>2.86B</td>\n",
       "      <td>900M</td>\n",
       "      <td>(1.2B)</td>\n",
       "      <td>(5.16B)</td>\n",
       "      <td>NaN</td>\n",
       "    </tr>\n",
       "    <tr>\n",
       "      <th>17</th>\n",
       "      <td>EBIT after Unusual Expense  EBIT after Unusual...</td>\n",
       "      <td>22.8B</td>\n",
       "      <td>26.19B</td>\n",
       "      <td>30.63B</td>\n",
       "      <td>36.67B</td>\n",
       "      <td>46.21B</td>\n",
       "      <td>NaN</td>\n",
       "    </tr>\n",
       "    <tr>\n",
       "      <th>18</th>\n",
       "      <td>Non Operating Income/Expense  Non Operating In...</td>\n",
       "      <td>454M</td>\n",
       "      <td>(45M)</td>\n",
       "      <td>2.64B</td>\n",
       "      <td>239M</td>\n",
       "      <td>(255M)</td>\n",
       "      <td>NaN</td>\n",
       "    </tr>\n",
       "    <tr>\n",
       "      <th>19</th>\n",
       "      <td>Non-Operating Interest Income  Non-Operating I...</td>\n",
       "      <td>1.22B</td>\n",
       "      <td>1.31B</td>\n",
       "      <td>1.88B</td>\n",
       "      <td>2.43B</td>\n",
       "      <td>1.87B</td>\n",
       "      <td>NaN</td>\n",
       "    </tr>\n",
       "    <tr>\n",
       "      <th>20</th>\n",
       "      <td>Equity in Affiliates (Pretax)  Equity in Affil...</td>\n",
       "      <td>(202M)</td>\n",
       "      <td>(156M)</td>\n",
       "      <td>(120M)</td>\n",
       "      <td>390M</td>\n",
       "      <td>401M</td>\n",
       "      <td>NaN</td>\n",
       "    </tr>\n",
       "    <tr>\n",
       "      <th>21</th>\n",
       "      <td>Interest Expense  Interest Expense</td>\n",
       "      <td>124M</td>\n",
       "      <td>109M</td>\n",
       "      <td>114M</td>\n",
       "      <td>100M</td>\n",
       "      <td>135M</td>\n",
       "      <td>NaN</td>\n",
       "    </tr>\n",
       "    <tr>\n",
       "      <th>22</th>\n",
       "      <td>Interest Expense Growth  Interest Expense Growth</td>\n",
       "      <td>-</td>\n",
       "      <td>-12.10%</td>\n",
       "      <td>4.59%</td>\n",
       "      <td>-12.28%</td>\n",
       "      <td>35.00%</td>\n",
       "      <td>NaN</td>\n",
       "    </tr>\n",
       "    <tr>\n",
       "      <th>23</th>\n",
       "      <td>Gross Interest Expense  Gross Interest Expense</td>\n",
       "      <td>124M</td>\n",
       "      <td>157M</td>\n",
       "      <td>206M</td>\n",
       "      <td>267M</td>\n",
       "      <td>353M</td>\n",
       "      <td>NaN</td>\n",
       "    </tr>\n",
       "    <tr>\n",
       "      <th>24</th>\n",
       "      <td>Interest Capitalized  Interest Capitalized</td>\n",
       "      <td>-</td>\n",
       "      <td>48M</td>\n",
       "      <td>92M</td>\n",
       "      <td>167M</td>\n",
       "      <td>218M</td>\n",
       "      <td>NaN</td>\n",
       "    </tr>\n",
       "    <tr>\n",
       "      <th>25</th>\n",
       "      <td>Pretax Income  Pretax Income</td>\n",
       "      <td>24.15B</td>\n",
       "      <td>27.19B</td>\n",
       "      <td>34.91B</td>\n",
       "      <td>39.63B</td>\n",
       "      <td>48.08B</td>\n",
       "      <td>NaN</td>\n",
       "    </tr>\n",
       "    <tr>\n",
       "      <th>26</th>\n",
       "      <td>Pretax Income Growth  Pretax Income Growth</td>\n",
       "      <td>-</td>\n",
       "      <td>12.60%</td>\n",
       "      <td>28.39%</td>\n",
       "      <td>13.50%</td>\n",
       "      <td>21.34%</td>\n",
       "      <td>NaN</td>\n",
       "    </tr>\n",
       "    <tr>\n",
       "      <th>27</th>\n",
       "      <td>Pretax Margin  Pretax Margin</td>\n",
       "      <td>-</td>\n",
       "      <td>-</td>\n",
       "      <td>-</td>\n",
       "      <td>-</td>\n",
       "      <td>26.37%</td>\n",
       "      <td>NaN</td>\n",
       "    </tr>\n",
       "    <tr>\n",
       "      <th>28</th>\n",
       "      <td>Income Tax  Income Tax</td>\n",
       "      <td>4.67B</td>\n",
       "      <td>14.53B</td>\n",
       "      <td>4.18B</td>\n",
       "      <td>5.28B</td>\n",
       "      <td>7.81B</td>\n",
       "      <td>NaN</td>\n",
       "    </tr>\n",
       "    <tr>\n",
       "      <th>29</th>\n",
       "      <td>Income Tax - Current Domestic  Income Tax - Cu...</td>\n",
       "      <td>3.83B</td>\n",
       "      <td>12.61B</td>\n",
       "      <td>2.15B</td>\n",
       "      <td>2.42B</td>\n",
       "      <td>4.79B</td>\n",
       "      <td>NaN</td>\n",
       "    </tr>\n",
       "    <tr>\n",
       "      <th>30</th>\n",
       "      <td>Income Tax - Current Foreign  Income Tax - Cur...</td>\n",
       "      <td>966M</td>\n",
       "      <td>1.75B</td>\n",
       "      <td>1.25B</td>\n",
       "      <td>2.71B</td>\n",
       "      <td>1.69B</td>\n",
       "      <td>NaN</td>\n",
       "    </tr>\n",
       "    <tr>\n",
       "      <th>31</th>\n",
       "      <td>Income Tax - Deferred Domestic  Income Tax - D...</td>\n",
       "      <td>(70M)</td>\n",
       "      <td>220M</td>\n",
       "      <td>907M</td>\n",
       "      <td>286M</td>\n",
       "      <td>1.55B</td>\n",
       "      <td>NaN</td>\n",
       "    </tr>\n",
       "    <tr>\n",
       "      <th>32</th>\n",
       "      <td>Income Tax - Deferred Foreign  Income Tax - De...</td>\n",
       "      <td>(50M)</td>\n",
       "      <td>(43M)</td>\n",
       "      <td>(134M)</td>\n",
       "      <td>(141M)</td>\n",
       "      <td>(215M)</td>\n",
       "      <td>NaN</td>\n",
       "    </tr>\n",
       "    <tr>\n",
       "      <th>33</th>\n",
       "      <td>Income Tax Credits  Income Tax Credits</td>\n",
       "      <td>-</td>\n",
       "      <td>-</td>\n",
       "      <td>-</td>\n",
       "      <td>-</td>\n",
       "      <td>-</td>\n",
       "      <td>NaN</td>\n",
       "    </tr>\n",
       "    <tr>\n",
       "      <th>34</th>\n",
       "      <td>Equity in Affiliates  Equity in Affiliates</td>\n",
       "      <td>-</td>\n",
       "      <td>-</td>\n",
       "      <td>-</td>\n",
       "      <td>-</td>\n",
       "      <td>-</td>\n",
       "      <td>NaN</td>\n",
       "    </tr>\n",
       "    <tr>\n",
       "      <th>35</th>\n",
       "      <td>Other After Tax Income (Expense)  Other After ...</td>\n",
       "      <td>-</td>\n",
       "      <td>-</td>\n",
       "      <td>-</td>\n",
       "      <td>-</td>\n",
       "      <td>-</td>\n",
       "      <td>NaN</td>\n",
       "    </tr>\n",
       "    <tr>\n",
       "      <th>36</th>\n",
       "      <td>Consolidated Net Income  Consolidated Net Income</td>\n",
       "      <td>19.48B</td>\n",
       "      <td>12.66B</td>\n",
       "      <td>30.74B</td>\n",
       "      <td>34.34B</td>\n",
       "      <td>40.27B</td>\n",
       "      <td>NaN</td>\n",
       "    </tr>\n",
       "    <tr>\n",
       "      <th>37</th>\n",
       "      <td>Minority Interest Expense  Minority Interest E...</td>\n",
       "      <td>-</td>\n",
       "      <td>-</td>\n",
       "      <td>-</td>\n",
       "      <td>-</td>\n",
       "      <td>-</td>\n",
       "      <td>NaN</td>\n",
       "    </tr>\n",
       "    <tr>\n",
       "      <th>38</th>\n",
       "      <td>Net Income  Net Income</td>\n",
       "      <td>19.48B</td>\n",
       "      <td>12.66B</td>\n",
       "      <td>30.74B</td>\n",
       "      <td>34.34B</td>\n",
       "      <td>40.27B</td>\n",
       "      <td>NaN</td>\n",
       "    </tr>\n",
       "    <tr>\n",
       "      <th>39</th>\n",
       "      <td>Net Income Growth  Net Income Growth</td>\n",
       "      <td>-</td>\n",
       "      <td>-34.99%</td>\n",
       "      <td>142.74%</td>\n",
       "      <td>11.74%</td>\n",
       "      <td>17.26%</td>\n",
       "      <td>NaN</td>\n",
       "    </tr>\n",
       "    <tr>\n",
       "      <th>40</th>\n",
       "      <td>Net Margin Growth  Net Margin Growth</td>\n",
       "      <td>-</td>\n",
       "      <td>-</td>\n",
       "      <td>-</td>\n",
       "      <td>-</td>\n",
       "      <td>22.08%</td>\n",
       "      <td>NaN</td>\n",
       "    </tr>\n",
       "    <tr>\n",
       "      <th>41</th>\n",
       "      <td>Extraordinaries &amp; Discontinued Operations  Ext...</td>\n",
       "      <td>-</td>\n",
       "      <td>-</td>\n",
       "      <td>-</td>\n",
       "      <td>-</td>\n",
       "      <td>-</td>\n",
       "      <td>NaN</td>\n",
       "    </tr>\n",
       "    <tr>\n",
       "      <th>42</th>\n",
       "      <td>Extra Items &amp; Gain/Loss Sale Of Assets  Extra ...</td>\n",
       "      <td>-</td>\n",
       "      <td>-</td>\n",
       "      <td>-</td>\n",
       "      <td>-</td>\n",
       "      <td>-</td>\n",
       "      <td>NaN</td>\n",
       "    </tr>\n",
       "    <tr>\n",
       "      <th>43</th>\n",
       "      <td>Cumulative Effect - Accounting Chg  Cumulative...</td>\n",
       "      <td>-</td>\n",
       "      <td>-</td>\n",
       "      <td>-</td>\n",
       "      <td>-</td>\n",
       "      <td>-</td>\n",
       "      <td>NaN</td>\n",
       "    </tr>\n",
       "    <tr>\n",
       "      <th>44</th>\n",
       "      <td>Discontinued Operations  Discontinued Operations</td>\n",
       "      <td>-</td>\n",
       "      <td>-</td>\n",
       "      <td>-</td>\n",
       "      <td>-</td>\n",
       "      <td>-</td>\n",
       "      <td>NaN</td>\n",
       "    </tr>\n",
       "    <tr>\n",
       "      <th>45</th>\n",
       "      <td>Net Income After Extraordinaries  Net Income A...</td>\n",
       "      <td>19.48B</td>\n",
       "      <td>12.66B</td>\n",
       "      <td>30.74B</td>\n",
       "      <td>34.34B</td>\n",
       "      <td>40.27B</td>\n",
       "      <td>NaN</td>\n",
       "    </tr>\n",
       "    <tr>\n",
       "      <th>46</th>\n",
       "      <td>Preferred Dividends  Preferred Dividends</td>\n",
       "      <td>-</td>\n",
       "      <td>-</td>\n",
       "      <td>-</td>\n",
       "      <td>-</td>\n",
       "      <td>-</td>\n",
       "      <td>NaN</td>\n",
       "    </tr>\n",
       "    <tr>\n",
       "      <th>47</th>\n",
       "      <td>Net Income Available to Common  Net Income Ava...</td>\n",
       "      <td>19.48B</td>\n",
       "      <td>12.66B</td>\n",
       "      <td>30.74B</td>\n",
       "      <td>34.34B</td>\n",
       "      <td>40.27B</td>\n",
       "      <td>NaN</td>\n",
       "    </tr>\n",
       "    <tr>\n",
       "      <th>48</th>\n",
       "      <td>EPS (Basic)  EPS (Basic)</td>\n",
       "      <td>28.32</td>\n",
       "      <td>18.27</td>\n",
       "      <td>44.22</td>\n",
       "      <td>49.59</td>\n",
       "      <td>63.45</td>\n",
       "      <td>NaN</td>\n",
       "    </tr>\n",
       "    <tr>\n",
       "      <th>49</th>\n",
       "      <td>EPS (Basic) Growth  EPS (Basic) Growth</td>\n",
       "      <td>-</td>\n",
       "      <td>-35.47%</td>\n",
       "      <td>141.96%</td>\n",
       "      <td>12.15%</td>\n",
       "      <td>27.96%</td>\n",
       "      <td>NaN</td>\n",
       "    </tr>\n",
       "    <tr>\n",
       "      <th>50</th>\n",
       "      <td>Basic Shares Outstanding  Basic Shares Outstan...</td>\n",
       "      <td>687.78M</td>\n",
       "      <td>692.9M</td>\n",
       "      <td>695.14M</td>\n",
       "      <td>692.6M</td>\n",
       "      <td>634.63M</td>\n",
       "      <td>NaN</td>\n",
       "    </tr>\n",
       "    <tr>\n",
       "      <th>51</th>\n",
       "      <td>EPS (Diluted)  EPS (Diluted)</td>\n",
       "      <td>27.88</td>\n",
       "      <td>18</td>\n",
       "      <td>43.7</td>\n",
       "      <td>49.16</td>\n",
       "      <td>58.61</td>\n",
       "      <td>NaN</td>\n",
       "    </tr>\n",
       "    <tr>\n",
       "      <th>52</th>\n",
       "      <td>EPS (Diluted) Growth  EPS (Diluted) Growth</td>\n",
       "      <td>-</td>\n",
       "      <td>-35.44%</td>\n",
       "      <td>142.85%</td>\n",
       "      <td>12.49%</td>\n",
       "      <td>19.22%</td>\n",
       "      <td>NaN</td>\n",
       "    </tr>\n",
       "    <tr>\n",
       "      <th>53</th>\n",
       "      <td>Diluted Shares Outstanding  Diluted Shares Out...</td>\n",
       "      <td>698.71M</td>\n",
       "      <td>703.58M</td>\n",
       "      <td>703.29M</td>\n",
       "      <td>698.56M</td>\n",
       "      <td>687.03M</td>\n",
       "      <td>NaN</td>\n",
       "    </tr>\n",
       "    <tr>\n",
       "      <th>54</th>\n",
       "      <td>EBITDA  EBITDA</td>\n",
       "      <td>29.32B</td>\n",
       "      <td>35.97B</td>\n",
       "      <td>40.57B</td>\n",
       "      <td>47.25B</td>\n",
       "      <td>54.74B</td>\n",
       "      <td>NaN</td>\n",
       "    </tr>\n",
       "    <tr>\n",
       "      <th>55</th>\n",
       "      <td>EBITDA Growth  EBITDA Growth</td>\n",
       "      <td>-</td>\n",
       "      <td>22.66%</td>\n",
       "      <td>12.79%</td>\n",
       "      <td>16.49%</td>\n",
       "      <td>15.85%</td>\n",
       "      <td>NaN</td>\n",
       "    </tr>\n",
       "    <tr>\n",
       "      <th>56</th>\n",
       "      <td>EBITDA Margin  EBITDA Margin</td>\n",
       "      <td>-</td>\n",
       "      <td>-</td>\n",
       "      <td>-</td>\n",
       "      <td>-</td>\n",
       "      <td>30.02%</td>\n",
       "      <td>NaN</td>\n",
       "    </tr>\n",
       "  </tbody>\n",
       "</table>\n",
       "</div>"
      ],
      "text/plain": [
       "                                           Item  Item  ... 5-year trend\n",
       "0                        Sales/Revenue  Sales/Revenue  ...          NaN\n",
       "1                          Sales Growth  Sales Growth  ...          NaN\n",
       "2   Cost of Goods Sold (COGS) incl. D&A  Cost of G...  ...          NaN\n",
       "3                            COGS Growth  COGS Growth  ...          NaN\n",
       "4              COGS excluding D&A  COGS excluding D&A  ...          NaN\n",
       "5   Depreciation & Amortization Expense  Depreciat...  ...          NaN\n",
       "6                          Depreciation  Depreciation  ...          NaN\n",
       "7   Amortization of Intangibles  Amortization of I...  ...          NaN\n",
       "8                          Gross Income  Gross Income  ...          NaN\n",
       "9            Gross Income Growth  Gross Income Growth  ...          NaN\n",
       "10           Gross Profit Margin  Gross Profit Margin  ...          NaN\n",
       "11                         SG&A Expense  SG&A Expense  ...          NaN\n",
       "12                             SGA Growth  SGA Growth  ...          NaN\n",
       "13     Research & Development  Research & Development  ...          NaN\n",
       "14                             Other SG&A  Other SG&A  ...          NaN\n",
       "15   Other Operating Expense  Other Operating Expense  ...          NaN\n",
       "16                   Unusual Expense  Unusual Expense  ...          NaN\n",
       "17  EBIT after Unusual Expense  EBIT after Unusual...  ...          NaN\n",
       "18  Non Operating Income/Expense  Non Operating In...  ...          NaN\n",
       "19  Non-Operating Interest Income  Non-Operating I...  ...          NaN\n",
       "20  Equity in Affiliates (Pretax)  Equity in Affil...  ...          NaN\n",
       "21                 Interest Expense  Interest Expense  ...          NaN\n",
       "22   Interest Expense Growth  Interest Expense Growth  ...          NaN\n",
       "23     Gross Interest Expense  Gross Interest Expense  ...          NaN\n",
       "24         Interest Capitalized  Interest Capitalized  ...          NaN\n",
       "25                       Pretax Income  Pretax Income  ...          NaN\n",
       "26         Pretax Income Growth  Pretax Income Growth  ...          NaN\n",
       "27                       Pretax Margin  Pretax Margin  ...          NaN\n",
       "28                             Income Tax  Income Tax  ...          NaN\n",
       "29  Income Tax - Current Domestic  Income Tax - Cu...  ...          NaN\n",
       "30  Income Tax - Current Foreign  Income Tax - Cur...  ...          NaN\n",
       "31  Income Tax - Deferred Domestic  Income Tax - D...  ...          NaN\n",
       "32  Income Tax - Deferred Foreign  Income Tax - De...  ...          NaN\n",
       "33             Income Tax Credits  Income Tax Credits  ...          NaN\n",
       "34         Equity in Affiliates  Equity in Affiliates  ...          NaN\n",
       "35  Other After Tax Income (Expense)  Other After ...  ...          NaN\n",
       "36   Consolidated Net Income  Consolidated Net Income  ...          NaN\n",
       "37  Minority Interest Expense  Minority Interest E...  ...          NaN\n",
       "38                             Net Income  Net Income  ...          NaN\n",
       "39               Net Income Growth  Net Income Growth  ...          NaN\n",
       "40               Net Margin Growth  Net Margin Growth  ...          NaN\n",
       "41  Extraordinaries & Discontinued Operations  Ext...  ...          NaN\n",
       "42  Extra Items & Gain/Loss Sale Of Assets  Extra ...  ...          NaN\n",
       "43  Cumulative Effect - Accounting Chg  Cumulative...  ...          NaN\n",
       "44   Discontinued Operations  Discontinued Operations  ...          NaN\n",
       "45  Net Income After Extraordinaries  Net Income A...  ...          NaN\n",
       "46           Preferred Dividends  Preferred Dividends  ...          NaN\n",
       "47  Net Income Available to Common  Net Income Ava...  ...          NaN\n",
       "48                           EPS (Basic)  EPS (Basic)  ...          NaN\n",
       "49             EPS (Basic) Growth  EPS (Basic) Growth  ...          NaN\n",
       "50  Basic Shares Outstanding  Basic Shares Outstan...  ...          NaN\n",
       "51                       EPS (Diluted)  EPS (Diluted)  ...          NaN\n",
       "52         EPS (Diluted) Growth  EPS (Diluted) Growth  ...          NaN\n",
       "53  Diluted Shares Outstanding  Diluted Shares Out...  ...          NaN\n",
       "54                                     EBITDA  EBITDA  ...          NaN\n",
       "55                       EBITDA Growth  EBITDA Growth  ...          NaN\n",
       "56                       EBITDA Margin  EBITDA Margin  ...          NaN\n",
       "\n",
       "[57 rows x 7 columns]"
      ]
     },
     "execution_count": 9,
     "metadata": {},
     "output_type": "execute_result"
    }
   ],
   "source": [
    "#Primera serie de datos de archivo html\n",
    "url = 'http://www.marketwatch.com/investing/stock/goog/financials'\n",
    "pd.read_html(url, match=\"Net Income\")[0]"
   ]
  },
  {
   "cell_type": "markdown",
   "metadata": {
    "id": "7nJgGWFTwxMg"
   },
   "source": [
    " "
   ]
  },
  {
   "cell_type": "markdown",
   "metadata": {
    "id": "IP1F4gmuwxMg"
   },
   "source": [
    "  "
   ]
  },
  {
   "cell_type": "markdown",
   "metadata": {
    "id": "23M7RckCwxMg",
    "tags": []
   },
   "source": [
    "### Statistical data description"
   ]
  },
  {
   "cell_type": "code",
   "execution_count": 10,
   "metadata": {
    "colab": {
     "base_uri": "https://localhost:8080/",
     "height": 290
    },
    "id": "co7m92TiwxMg",
    "outputId": "d7bc2e34-4817-4a8e-bc51-9862f969c514"
   },
   "outputs": [
    {
     "name": "stdout",
     "output_type": "stream",
     "text": [
      "\n",
      "First 5 records:\n"
     ]
    },
    {
     "data": {
      "text/html": [
       "<div>\n",
       "<style scoped>\n",
       "    .dataframe tbody tr th:only-of-type {\n",
       "        vertical-align: middle;\n",
       "    }\n",
       "\n",
       "    .dataframe tbody tr th {\n",
       "        vertical-align: top;\n",
       "    }\n",
       "\n",
       "    .dataframe thead th {\n",
       "        text-align: right;\n",
       "    }\n",
       "</style>\n",
       "<table border=\"1\" class=\"dataframe\">\n",
       "  <thead>\n",
       "    <tr style=\"text-align: right;\">\n",
       "      <th></th>\n",
       "      <th>Make</th>\n",
       "      <th>Model</th>\n",
       "      <th>Type</th>\n",
       "      <th>Min Price</th>\n",
       "      <th>Mid Price</th>\n",
       "      <th>Max Price</th>\n",
       "      <th>MPG City</th>\n",
       "      <th>MPG Highway</th>\n",
       "      <th>Air Bags</th>\n",
       "      <th>Drive Train</th>\n",
       "      <th>Cylinders</th>\n",
       "      <th>Engine Size</th>\n",
       "      <th>Horsepower</th>\n",
       "      <th>RPM</th>\n",
       "      <th>Revs per Mile</th>\n",
       "      <th>Manual</th>\n",
       "      <th>Fueltank</th>\n",
       "      <th>Passengers</th>\n",
       "      <th>Length</th>\n",
       "      <th>Wheelbase</th>\n",
       "      <th>Width</th>\n",
       "      <th>U Turn Space</th>\n",
       "      <th>Rear seat</th>\n",
       "      <th>Luggage</th>\n",
       "      <th>Weight</th>\n",
       "      <th>Domestic</th>\n",
       "    </tr>\n",
       "  </thead>\n",
       "  <tbody>\n",
       "    <tr>\n",
       "      <th>0</th>\n",
       "      <td>Acura</td>\n",
       "      <td>Integra</td>\n",
       "      <td>Small</td>\n",
       "      <td>12.9</td>\n",
       "      <td>15.9</td>\n",
       "      <td>18.8</td>\n",
       "      <td>25</td>\n",
       "      <td>31</td>\n",
       "      <td>0</td>\n",
       "      <td>front</td>\n",
       "      <td>4.0</td>\n",
       "      <td>1.8</td>\n",
       "      <td>140</td>\n",
       "      <td>6300</td>\n",
       "      <td>2890</td>\n",
       "      <td>1</td>\n",
       "      <td>13.2</td>\n",
       "      <td>5</td>\n",
       "      <td>177</td>\n",
       "      <td>102</td>\n",
       "      <td>68</td>\n",
       "      <td>37</td>\n",
       "      <td>26.5</td>\n",
       "      <td>11.0</td>\n",
       "      <td>2705</td>\n",
       "      <td>0</td>\n",
       "    </tr>\n",
       "    <tr>\n",
       "      <th>1</th>\n",
       "      <td>Acura</td>\n",
       "      <td>Legend</td>\n",
       "      <td>Midsize</td>\n",
       "      <td>29.2</td>\n",
       "      <td>33.9</td>\n",
       "      <td>38.7</td>\n",
       "      <td>18</td>\n",
       "      <td>25</td>\n",
       "      <td>2</td>\n",
       "      <td>front</td>\n",
       "      <td>6.0</td>\n",
       "      <td>3.2</td>\n",
       "      <td>200</td>\n",
       "      <td>5500</td>\n",
       "      <td>2335</td>\n",
       "      <td>1</td>\n",
       "      <td>18.0</td>\n",
       "      <td>5</td>\n",
       "      <td>195</td>\n",
       "      <td>115</td>\n",
       "      <td>71</td>\n",
       "      <td>38</td>\n",
       "      <td>30.0</td>\n",
       "      <td>15.0</td>\n",
       "      <td>3560</td>\n",
       "      <td>0</td>\n",
       "    </tr>\n",
       "    <tr>\n",
       "      <th>2</th>\n",
       "      <td>Audi</td>\n",
       "      <td>90</td>\n",
       "      <td>Compact</td>\n",
       "      <td>25.9</td>\n",
       "      <td>29.1</td>\n",
       "      <td>32.3</td>\n",
       "      <td>20</td>\n",
       "      <td>26</td>\n",
       "      <td>1</td>\n",
       "      <td>front</td>\n",
       "      <td>6.0</td>\n",
       "      <td>2.8</td>\n",
       "      <td>172</td>\n",
       "      <td>5500</td>\n",
       "      <td>2280</td>\n",
       "      <td>1</td>\n",
       "      <td>16.9</td>\n",
       "      <td>5</td>\n",
       "      <td>180</td>\n",
       "      <td>102</td>\n",
       "      <td>67</td>\n",
       "      <td>37</td>\n",
       "      <td>28.0</td>\n",
       "      <td>14.0</td>\n",
       "      <td>3375</td>\n",
       "      <td>0</td>\n",
       "    </tr>\n",
       "    <tr>\n",
       "      <th>3</th>\n",
       "      <td>Audi</td>\n",
       "      <td>100</td>\n",
       "      <td>Midsize</td>\n",
       "      <td>30.8</td>\n",
       "      <td>37.7</td>\n",
       "      <td>44.6</td>\n",
       "      <td>19</td>\n",
       "      <td>26</td>\n",
       "      <td>2</td>\n",
       "      <td>front</td>\n",
       "      <td>6.0</td>\n",
       "      <td>2.8</td>\n",
       "      <td>172</td>\n",
       "      <td>5500</td>\n",
       "      <td>2535</td>\n",
       "      <td>1</td>\n",
       "      <td>21.1</td>\n",
       "      <td>6</td>\n",
       "      <td>193</td>\n",
       "      <td>106</td>\n",
       "      <td>70</td>\n",
       "      <td>37</td>\n",
       "      <td>31.0</td>\n",
       "      <td>17.0</td>\n",
       "      <td>3405</td>\n",
       "      <td>0</td>\n",
       "    </tr>\n",
       "    <tr>\n",
       "      <th>4</th>\n",
       "      <td>BMW</td>\n",
       "      <td>535i</td>\n",
       "      <td>Midsize</td>\n",
       "      <td>23.7</td>\n",
       "      <td>30.0</td>\n",
       "      <td>36.2</td>\n",
       "      <td>22</td>\n",
       "      <td>30</td>\n",
       "      <td>1</td>\n",
       "      <td>rear</td>\n",
       "      <td>4.0</td>\n",
       "      <td>3.5</td>\n",
       "      <td>208</td>\n",
       "      <td>5700</td>\n",
       "      <td>2545</td>\n",
       "      <td>1</td>\n",
       "      <td>21.1</td>\n",
       "      <td>4</td>\n",
       "      <td>186</td>\n",
       "      <td>109</td>\n",
       "      <td>69</td>\n",
       "      <td>39</td>\n",
       "      <td>27.0</td>\n",
       "      <td>13.0</td>\n",
       "      <td>3640</td>\n",
       "      <td>0</td>\n",
       "    </tr>\n",
       "  </tbody>\n",
       "</table>\n",
       "</div>"
      ],
      "text/plain": [
       "    Make    Model     Type  Min Price  ...  Rear seat  Luggage  Weight  Domestic\n",
       "0  Acura  Integra    Small       12.9  ...       26.5     11.0    2705         0\n",
       "1  Acura   Legend  Midsize       29.2  ...       30.0     15.0    3560         0\n",
       "2   Audi       90  Compact       25.9  ...       28.0     14.0    3375         0\n",
       "3   Audi      100  Midsize       30.8  ...       31.0     17.0    3405         0\n",
       "4    BMW     535i  Midsize       23.7  ...       27.0     13.0    3640         0\n",
       "\n",
       "[5 rows x 26 columns]"
      ]
     },
     "execution_count": 10,
     "metadata": {},
     "output_type": "execute_result"
    }
   ],
   "source": [
    "import pandas as pd\n",
    "df4=pd.read_excel(\"93CAR.xlsx\", sheet_name=\"Hoja1\", engine=\"openpyxl\")\n",
    "print(\"\\nFirst 5 records:\")\n",
    "df4.head()\n"
   ]
  },
  {
   "cell_type": "code",
   "execution_count": 12,
   "metadata": {
    "colab": {
     "base_uri": "https://localhost:8080/",
     "height": 954
    },
    "id": "cLHqR2ZiwxMh",
    "outputId": "409e2a8f-fa4e-435f-a079-375471935690"
   },
   "outputs": [
    {
     "name": "stdout",
     "output_type": "stream",
     "text": [
      "\n",
      "Variable information:\n",
      "<class 'pandas.core.frame.DataFrame'>\n",
      "RangeIndex: 93 entries, 0 to 92\n",
      "Data columns (total 26 columns):\n",
      " #   Column         Non-Null Count  Dtype  \n",
      "---  ------         --------------  -----  \n",
      " 0   Make           93 non-null     object \n",
      " 1   Model          93 non-null     object \n",
      " 2   Type           93 non-null     object \n",
      " 3   Min Price      93 non-null     float64\n",
      " 4   Mid Price      93 non-null     float64\n",
      " 5   Max Price      93 non-null     float64\n",
      " 6   MPG City       93 non-null     int64  \n",
      " 7   MPG Highway    93 non-null     int64  \n",
      " 8   Air Bags       93 non-null     int64  \n",
      " 9   Drive Train    93 non-null     object \n",
      " 10  Cylinders      92 non-null     float64\n",
      " 11  Engine Size    93 non-null     float64\n",
      " 12  Horsepower     93 non-null     int64  \n",
      " 13  RPM            93 non-null     int64  \n",
      " 14  Revs per Mile  93 non-null     int64  \n",
      " 15  Manual         93 non-null     int64  \n",
      " 16  Fueltank       93 non-null     float64\n",
      " 17  Passengers     93 non-null     int64  \n",
      " 18  Length         93 non-null     int64  \n",
      " 19  Wheelbase      93 non-null     int64  \n",
      " 20  Width          93 non-null     int64  \n",
      " 21  U Turn Space   93 non-null     int64  \n",
      " 22  Rear seat      91 non-null     float64\n",
      " 23  Luggage        82 non-null     float64\n",
      " 24  Weight         93 non-null     int64  \n",
      " 25  Domestic       93 non-null     int64  \n",
      "dtypes: float64(8), int64(14), object(4)\n",
      "memory usage: 19.0+ KB\n",
      "\n",
      "Basic statistical description per variable\n"
     ]
    },
    {
     "data": {
      "text/html": [
       "<div>\n",
       "<style scoped>\n",
       "    .dataframe tbody tr th:only-of-type {\n",
       "        vertical-align: middle;\n",
       "    }\n",
       "\n",
       "    .dataframe tbody tr th {\n",
       "        vertical-align: top;\n",
       "    }\n",
       "\n",
       "    .dataframe thead th {\n",
       "        text-align: right;\n",
       "    }\n",
       "</style>\n",
       "<table border=\"1\" class=\"dataframe\">\n",
       "  <thead>\n",
       "    <tr style=\"text-align: right;\">\n",
       "      <th></th>\n",
       "      <th>Min Price</th>\n",
       "      <th>Mid Price</th>\n",
       "      <th>Max Price</th>\n",
       "      <th>MPG City</th>\n",
       "      <th>MPG Highway</th>\n",
       "      <th>Air Bags</th>\n",
       "      <th>Cylinders</th>\n",
       "      <th>Engine Size</th>\n",
       "      <th>Horsepower</th>\n",
       "      <th>RPM</th>\n",
       "      <th>Revs per Mile</th>\n",
       "      <th>Manual</th>\n",
       "      <th>Fueltank</th>\n",
       "      <th>Passengers</th>\n",
       "      <th>Length</th>\n",
       "      <th>Wheelbase</th>\n",
       "      <th>Width</th>\n",
       "      <th>U Turn Space</th>\n",
       "      <th>Rear seat</th>\n",
       "      <th>Luggage</th>\n",
       "      <th>Weight</th>\n",
       "      <th>Domestic</th>\n",
       "    </tr>\n",
       "  </thead>\n",
       "  <tbody>\n",
       "    <tr>\n",
       "      <th>count</th>\n",
       "      <td>93.000000</td>\n",
       "      <td>93.000000</td>\n",
       "      <td>93.000000</td>\n",
       "      <td>93.000000</td>\n",
       "      <td>93.000000</td>\n",
       "      <td>93.000000</td>\n",
       "      <td>92.000000</td>\n",
       "      <td>93.000000</td>\n",
       "      <td>93.000000</td>\n",
       "      <td>93.000000</td>\n",
       "      <td>93.000000</td>\n",
       "      <td>93.000000</td>\n",
       "      <td>93.000000</td>\n",
       "      <td>93.000000</td>\n",
       "      <td>93.000000</td>\n",
       "      <td>93.000000</td>\n",
       "      <td>93.000000</td>\n",
       "      <td>93.000000</td>\n",
       "      <td>91.000000</td>\n",
       "      <td>82.000000</td>\n",
       "      <td>93.000000</td>\n",
       "      <td>93.000000</td>\n",
       "    </tr>\n",
       "    <tr>\n",
       "      <th>mean</th>\n",
       "      <td>17.125806</td>\n",
       "      <td>19.509677</td>\n",
       "      <td>21.898925</td>\n",
       "      <td>22.365591</td>\n",
       "      <td>29.086022</td>\n",
       "      <td>0.806452</td>\n",
       "      <td>4.967391</td>\n",
       "      <td>2.667742</td>\n",
       "      <td>143.827957</td>\n",
       "      <td>5280.645161</td>\n",
       "      <td>2332.204301</td>\n",
       "      <td>0.655914</td>\n",
       "      <td>16.664516</td>\n",
       "      <td>5.086022</td>\n",
       "      <td>183.204301</td>\n",
       "      <td>103.946237</td>\n",
       "      <td>69.376344</td>\n",
       "      <td>38.956989</td>\n",
       "      <td>27.829670</td>\n",
       "      <td>13.890244</td>\n",
       "      <td>3072.903226</td>\n",
       "      <td>0.516129</td>\n",
       "    </tr>\n",
       "    <tr>\n",
       "      <th>std</th>\n",
       "      <td>8.746029</td>\n",
       "      <td>9.659430</td>\n",
       "      <td>11.030457</td>\n",
       "      <td>5.619812</td>\n",
       "      <td>5.331726</td>\n",
       "      <td>0.711063</td>\n",
       "      <td>1.304692</td>\n",
       "      <td>1.037363</td>\n",
       "      <td>52.374410</td>\n",
       "      <td>596.731690</td>\n",
       "      <td>496.506525</td>\n",
       "      <td>0.477644</td>\n",
       "      <td>3.279370</td>\n",
       "      <td>1.038979</td>\n",
       "      <td>14.602382</td>\n",
       "      <td>6.819674</td>\n",
       "      <td>3.778986</td>\n",
       "      <td>3.223265</td>\n",
       "      <td>2.989072</td>\n",
       "      <td>2.997967</td>\n",
       "      <td>589.896510</td>\n",
       "      <td>0.502448</td>\n",
       "    </tr>\n",
       "    <tr>\n",
       "      <th>min</th>\n",
       "      <td>6.700000</td>\n",
       "      <td>7.400000</td>\n",
       "      <td>7.900000</td>\n",
       "      <td>15.000000</td>\n",
       "      <td>20.000000</td>\n",
       "      <td>0.000000</td>\n",
       "      <td>3.000000</td>\n",
       "      <td>1.000000</td>\n",
       "      <td>55.000000</td>\n",
       "      <td>3800.000000</td>\n",
       "      <td>1320.000000</td>\n",
       "      <td>0.000000</td>\n",
       "      <td>9.200000</td>\n",
       "      <td>2.000000</td>\n",
       "      <td>141.000000</td>\n",
       "      <td>90.000000</td>\n",
       "      <td>60.000000</td>\n",
       "      <td>32.000000</td>\n",
       "      <td>19.000000</td>\n",
       "      <td>6.000000</td>\n",
       "      <td>1695.000000</td>\n",
       "      <td>0.000000</td>\n",
       "    </tr>\n",
       "    <tr>\n",
       "      <th>25%</th>\n",
       "      <td>10.800000</td>\n",
       "      <td>12.200000</td>\n",
       "      <td>14.700000</td>\n",
       "      <td>18.000000</td>\n",
       "      <td>26.000000</td>\n",
       "      <td>0.000000</td>\n",
       "      <td>4.000000</td>\n",
       "      <td>1.800000</td>\n",
       "      <td>103.000000</td>\n",
       "      <td>4800.000000</td>\n",
       "      <td>1985.000000</td>\n",
       "      <td>0.000000</td>\n",
       "      <td>14.500000</td>\n",
       "      <td>4.000000</td>\n",
       "      <td>174.000000</td>\n",
       "      <td>98.000000</td>\n",
       "      <td>67.000000</td>\n",
       "      <td>37.000000</td>\n",
       "      <td>26.000000</td>\n",
       "      <td>12.000000</td>\n",
       "      <td>2620.000000</td>\n",
       "      <td>0.000000</td>\n",
       "    </tr>\n",
       "    <tr>\n",
       "      <th>50%</th>\n",
       "      <td>14.700000</td>\n",
       "      <td>17.700000</td>\n",
       "      <td>19.600000</td>\n",
       "      <td>21.000000</td>\n",
       "      <td>28.000000</td>\n",
       "      <td>1.000000</td>\n",
       "      <td>4.000000</td>\n",
       "      <td>2.400000</td>\n",
       "      <td>140.000000</td>\n",
       "      <td>5200.000000</td>\n",
       "      <td>2340.000000</td>\n",
       "      <td>1.000000</td>\n",
       "      <td>16.400000</td>\n",
       "      <td>5.000000</td>\n",
       "      <td>183.000000</td>\n",
       "      <td>103.000000</td>\n",
       "      <td>69.000000</td>\n",
       "      <td>39.000000</td>\n",
       "      <td>27.500000</td>\n",
       "      <td>14.000000</td>\n",
       "      <td>3040.000000</td>\n",
       "      <td>1.000000</td>\n",
       "    </tr>\n",
       "    <tr>\n",
       "      <th>75%</th>\n",
       "      <td>20.300000</td>\n",
       "      <td>23.300000</td>\n",
       "      <td>25.300000</td>\n",
       "      <td>25.000000</td>\n",
       "      <td>31.000000</td>\n",
       "      <td>1.000000</td>\n",
       "      <td>6.000000</td>\n",
       "      <td>3.300000</td>\n",
       "      <td>170.000000</td>\n",
       "      <td>5750.000000</td>\n",
       "      <td>2565.000000</td>\n",
       "      <td>1.000000</td>\n",
       "      <td>18.800000</td>\n",
       "      <td>6.000000</td>\n",
       "      <td>192.000000</td>\n",
       "      <td>110.000000</td>\n",
       "      <td>72.000000</td>\n",
       "      <td>41.000000</td>\n",
       "      <td>30.000000</td>\n",
       "      <td>15.000000</td>\n",
       "      <td>3525.000000</td>\n",
       "      <td>1.000000</td>\n",
       "    </tr>\n",
       "    <tr>\n",
       "      <th>max</th>\n",
       "      <td>45.400000</td>\n",
       "      <td>61.900000</td>\n",
       "      <td>80.000000</td>\n",
       "      <td>46.000000</td>\n",
       "      <td>50.000000</td>\n",
       "      <td>2.000000</td>\n",
       "      <td>8.000000</td>\n",
       "      <td>5.700000</td>\n",
       "      <td>300.000000</td>\n",
       "      <td>6500.000000</td>\n",
       "      <td>3755.000000</td>\n",
       "      <td>1.000000</td>\n",
       "      <td>27.000000</td>\n",
       "      <td>8.000000</td>\n",
       "      <td>219.000000</td>\n",
       "      <td>119.000000</td>\n",
       "      <td>78.000000</td>\n",
       "      <td>45.000000</td>\n",
       "      <td>36.000000</td>\n",
       "      <td>22.000000</td>\n",
       "      <td>4105.000000</td>\n",
       "      <td>1.000000</td>\n",
       "    </tr>\n",
       "  </tbody>\n",
       "</table>\n",
       "</div>"
      ],
      "text/plain": [
       "       Min Price  Mid Price  Max Price  ...    Luggage       Weight   Domestic\n",
       "count  93.000000  93.000000  93.000000  ...  82.000000    93.000000  93.000000\n",
       "mean   17.125806  19.509677  21.898925  ...  13.890244  3072.903226   0.516129\n",
       "std     8.746029   9.659430  11.030457  ...   2.997967   589.896510   0.502448\n",
       "min     6.700000   7.400000   7.900000  ...   6.000000  1695.000000   0.000000\n",
       "25%    10.800000  12.200000  14.700000  ...  12.000000  2620.000000   0.000000\n",
       "50%    14.700000  17.700000  19.600000  ...  14.000000  3040.000000   1.000000\n",
       "75%    20.300000  23.300000  25.300000  ...  15.000000  3525.000000   1.000000\n",
       "max    45.400000  61.900000  80.000000  ...  22.000000  4105.000000   1.000000\n",
       "\n",
       "[8 rows x 22 columns]"
      ]
     },
     "execution_count": 12,
     "metadata": {},
     "output_type": "execute_result"
    }
   ],
   "source": [
    "print(\"\\nVariable information:\")\n",
    "df4.info()\n",
    "\n",
    "print(\"\\nBasic statistical description per variable\")\n",
    "df4.describe()\n",
    "\n",
    "#como se distribuyen en un senitdo general cada una de las variables cuantitativas"
   ]
  },
  {
   "cell_type": "markdown",
   "metadata": {
    "id": "ilafR4p6wxMh"
   },
   "source": [
    " "
   ]
  },
  {
   "cell_type": "markdown",
   "metadata": {
    "id": "pGgg4s9WwxMh"
   },
   "source": [
    "The low-level variable structure in the database could be accessed as follows"
   ]
  },
  {
   "cell_type": "code",
   "execution_count": 13,
   "metadata": {
    "colab": {
     "base_uri": "https://localhost:8080/"
    },
    "id": "_zoc00gKwxMh",
    "outputId": "b1e570e5-e90d-4c6e-95e9-9cc1434f6216"
   },
   "outputs": [
    {
     "data": {
      "text/plain": [
       "{'_attrs': {}, '_is_copy': None, '_item_cache': {'Air Bags': 0     0\n",
       "  1     2\n",
       "  2     1\n",
       "  3     2\n",
       "  4     1\n",
       "       ..\n",
       "  88    0\n",
       "  89    0\n",
       "  90    0\n",
       "  91    1\n",
       "  92    2\n",
       "  Name: Air Bags, Length: 93, dtype: int64, 'Cylinders': 0     4.0\n",
       "  1     6.0\n",
       "  2     6.0\n",
       "  3     6.0\n",
       "  4     4.0\n",
       "       ... \n",
       "  88    5.0\n",
       "  89    4.0\n",
       "  90    6.0\n",
       "  91    4.0\n",
       "  92    5.0\n",
       "  Name: Cylinders, Length: 93, dtype: float64, 'Domestic': 0     0\n",
       "  1     0\n",
       "  2     0\n",
       "  3     0\n",
       "  4     0\n",
       "       ..\n",
       "  88    0\n",
       "  89    0\n",
       "  90    0\n",
       "  91    0\n",
       "  92    0\n",
       "  Name: Domestic, Length: 93, dtype: int64, 'Drive Train': 0     front\n",
       "  1     front\n",
       "  2     front\n",
       "  3     front\n",
       "  4      rear\n",
       "        ...  \n",
       "  88    front\n",
       "  89    front\n",
       "  90    front\n",
       "  91     rear\n",
       "  92    front\n",
       "  Name: Drive Train, Length: 93, dtype: object, 'Engine Size': 0     1.8\n",
       "  1     3.2\n",
       "  2     2.8\n",
       "  3     2.8\n",
       "  4     3.5\n",
       "       ... \n",
       "  88    2.5\n",
       "  89    2.0\n",
       "  90    2.8\n",
       "  91    2.3\n",
       "  92    2.4\n",
       "  Name: Engine Size, Length: 93, dtype: float64, 'Fueltank': 0     13.2\n",
       "  1     18.0\n",
       "  2     16.9\n",
       "  3     21.1\n",
       "  4     21.1\n",
       "        ... \n",
       "  88    21.1\n",
       "  89    18.5\n",
       "  90    18.5\n",
       "  91    15.8\n",
       "  92    19.3\n",
       "  Name: Fueltank, Length: 93, dtype: float64, 'Horsepower': 0     140\n",
       "  1     200\n",
       "  2     172\n",
       "  3     172\n",
       "  4     208\n",
       "       ... \n",
       "  88    109\n",
       "  89    134\n",
       "  90    178\n",
       "  91    114\n",
       "  92    168\n",
       "  Name: Horsepower, Length: 93, dtype: int64, 'Length': 0     177\n",
       "  1     195\n",
       "  2     180\n",
       "  3     193\n",
       "  4     186\n",
       "       ... \n",
       "  88    187\n",
       "  89    180\n",
       "  90    159\n",
       "  91    190\n",
       "  92    184\n",
       "  Name: Length, Length: 93, dtype: int64, 'Luggage': 0     11.0\n",
       "  1     15.0\n",
       "  2     14.0\n",
       "  3     17.0\n",
       "  4     13.0\n",
       "        ... \n",
       "  88     NaN\n",
       "  89    14.0\n",
       "  90    15.0\n",
       "  91    14.0\n",
       "  92    15.0\n",
       "  Name: Luggage, Length: 93, dtype: float64, 'MPG City': 0     25\n",
       "  1     18\n",
       "  2     20\n",
       "  3     19\n",
       "  4     22\n",
       "        ..\n",
       "  88    17\n",
       "  89    21\n",
       "  90    18\n",
       "  91    21\n",
       "  92    20\n",
       "  Name: MPG City, Length: 93, dtype: int64, 'MPG Highway': 0     31\n",
       "  1     25\n",
       "  2     26\n",
       "  3     26\n",
       "  4     30\n",
       "        ..\n",
       "  88    21\n",
       "  89    30\n",
       "  90    25\n",
       "  91    28\n",
       "  92    28\n",
       "  Name: MPG Highway, Length: 93, dtype: int64, 'Make': 0          Acura\n",
       "  1          Acura\n",
       "  2           Audi\n",
       "  3           Audi\n",
       "  4            BMW\n",
       "           ...    \n",
       "  88    Volkswagen\n",
       "  89    Volkswagen\n",
       "  90    Volkswagen\n",
       "  91         Volvo\n",
       "  92         Volvo\n",
       "  Name: Make, Length: 93, dtype: object, 'Manual': 0     1\n",
       "  1     1\n",
       "  2     1\n",
       "  3     1\n",
       "  4     1\n",
       "       ..\n",
       "  88    1\n",
       "  89    1\n",
       "  90    1\n",
       "  91    1\n",
       "  92    1\n",
       "  Name: Manual, Length: 93, dtype: int64, 'Max Price': 0     18.8\n",
       "  1     38.7\n",
       "  2     32.3\n",
       "  3     44.6\n",
       "  4     36.2\n",
       "        ... \n",
       "  88    22.7\n",
       "  89    22.4\n",
       "  90    23.7\n",
       "  91    23.5\n",
       "  92    28.5\n",
       "  Name: Max Price, Length: 93, dtype: float64, 'Mid Price': 0     15.9\n",
       "  1     33.9\n",
       "  2     29.1\n",
       "  3     37.7\n",
       "  4     30.0\n",
       "        ... \n",
       "  88    19.7\n",
       "  89    20.0\n",
       "  90    23.3\n",
       "  91    22.7\n",
       "  92    26.7\n",
       "  Name: Mid Price, Length: 93, dtype: float64, 'Min Price': 0     12.9\n",
       "  1     29.2\n",
       "  2     25.9\n",
       "  3     30.8\n",
       "  4     23.7\n",
       "        ... \n",
       "  88    16.6\n",
       "  89    17.6\n",
       "  90    22.9\n",
       "  91    21.8\n",
       "  92    24.8\n",
       "  Name: Min Price, Length: 93, dtype: float64, 'Model': 0     Integra\n",
       "  1      Legend\n",
       "  2          90\n",
       "  3         100\n",
       "  4        535i\n",
       "         ...   \n",
       "  88    Eurovan\n",
       "  89     Passat\n",
       "  90    Corrado\n",
       "  91        240\n",
       "  92        850\n",
       "  Name: Model, Length: 93, dtype: object, 'Passengers': 0     5\n",
       "  1     5\n",
       "  2     5\n",
       "  3     6\n",
       "  4     4\n",
       "       ..\n",
       "  88    7\n",
       "  89    5\n",
       "  90    4\n",
       "  91    5\n",
       "  92    5\n",
       "  Name: Passengers, Length: 93, dtype: int64, 'RPM': 0     6300\n",
       "  1     5500\n",
       "  2     5500\n",
       "  3     5500\n",
       "  4     5700\n",
       "        ... \n",
       "  88    4500\n",
       "  89    5800\n",
       "  90    5800\n",
       "  91    5400\n",
       "  92    6200\n",
       "  Name: RPM, Length: 93, dtype: int64, 'Rear seat': 0     26.5\n",
       "  1     30.0\n",
       "  2     28.0\n",
       "  3     31.0\n",
       "  4     27.0\n",
       "        ... \n",
       "  88    34.0\n",
       "  89    31.5\n",
       "  90    26.0\n",
       "  91    29.5\n",
       "  92    30.0\n",
       "  Name: Rear seat, Length: 93, dtype: float64, 'Revs per Mile': 0     2890\n",
       "  1     2335\n",
       "  2     2280\n",
       "  3     2535\n",
       "  4     2545\n",
       "        ... \n",
       "  88    2915\n",
       "  89    2685\n",
       "  90    2385\n",
       "  91    2215\n",
       "  92    2310\n",
       "  Name: Revs per Mile, Length: 93, dtype: int64, 'Type': 0       Small\n",
       "  1     Midsize\n",
       "  2     Compact\n",
       "  3     Midsize\n",
       "  4     Midsize\n",
       "         ...   \n",
       "  88        Van\n",
       "  89    Compact\n",
       "  90     Sporty\n",
       "  91    Compact\n",
       "  92    Midsize\n",
       "  Name: Type, Length: 93, dtype: object, 'U Turn Space': 0     37\n",
       "  1     38\n",
       "  2     37\n",
       "  3     37\n",
       "  4     39\n",
       "        ..\n",
       "  88    38\n",
       "  89    35\n",
       "  90    36\n",
       "  91    37\n",
       "  92    38\n",
       "  Name: U Turn Space, Length: 93, dtype: int64, 'Weight': 0     2705\n",
       "  1     3560\n",
       "  2     3375\n",
       "  3     3405\n",
       "  4     3640\n",
       "        ... \n",
       "  88    3960\n",
       "  89    2985\n",
       "  90    2810\n",
       "  91    2985\n",
       "  92    3245\n",
       "  Name: Weight, Length: 93, dtype: int64, 'Wheelbase': 0     102\n",
       "  1     115\n",
       "  2     102\n",
       "  3     106\n",
       "  4     109\n",
       "       ... \n",
       "  88    115\n",
       "  89    103\n",
       "  90     97\n",
       "  91    104\n",
       "  92    105\n",
       "  Name: Wheelbase, Length: 93, dtype: int64, 'Width': 0     68\n",
       "  1     71\n",
       "  2     67\n",
       "  3     70\n",
       "  4     69\n",
       "        ..\n",
       "  88    72\n",
       "  89    67\n",
       "  90    66\n",
       "  91    67\n",
       "  92    69\n",
       "  Name: Width, Length: 93, dtype: int64}, '_mgr': BlockManager\n",
       " Items: Index(['Make', 'Model', 'Type', 'Min Price', 'Mid Price', 'Max Price',\n",
       "        'MPG City', 'MPG Highway', 'Air Bags', 'Drive Train', 'Cylinders',\n",
       "        'Engine Size', 'Horsepower', 'RPM', 'Revs per Mile', 'Manual',\n",
       "        'Fueltank', 'Passengers', 'Length', 'Wheelbase', 'Width',\n",
       "        'U Turn Space', 'Rear seat', 'Luggage', 'Weight', 'Domestic'],\n",
       "       dtype='object')\n",
       " Axis 1: RangeIndex(start=0, stop=93, step=1)\n",
       " FloatBlock: [ 3  4  5 10 11 16 22 23], 8 x 93, dtype: float64\n",
       " IntBlock: [ 6  7  8 12 13 14 15 17 18 19 20 21 24 25], 14 x 93, dtype: int64\n",
       " ObjectBlock: [0 1 2 9], 4 x 93, dtype: object}"
      ]
     },
     "execution_count": 13,
     "metadata": {},
     "output_type": "execute_result"
    }
   ],
   "source": [
    "vars(df4)"
   ]
  },
  {
   "cell_type": "markdown",
   "metadata": {
    "id": "fPDg5kGgwxMh"
   },
   "source": [
    " Variables in the dataframe can be accessed and explored individually by their label.\n",
    " \n",
    " For example, two qualitative variables, __Vehicle Type__ and __Drive Train__"
   ]
  },
  {
   "cell_type": "code",
   "execution_count": 14,
   "metadata": {
    "colab": {
     "base_uri": "https://localhost:8080/"
    },
    "id": "zI9hMCtZwxMh",
    "outputId": "f4c2ad98-b4d1-4241-fffa-1b709a7ba0db"
   },
   "outputs": [
    {
     "data": {
      "text/plain": [
       "0      Small\n",
       "1    Midsize\n",
       "2    Compact\n",
       "3    Midsize\n",
       "4    Midsize\n",
       "Name: Type, dtype: object"
      ]
     },
     "execution_count": 14,
     "metadata": {},
     "output_type": "execute_result"
    }
   ],
   "source": [
    "VehicleType=df4[\"Type\"]\n",
    "VehicleType.head()"
   ]
  },
  {
   "cell_type": "code",
   "execution_count": 15,
   "metadata": {
    "colab": {
     "base_uri": "https://localhost:8080/"
    },
    "id": "EPSt9eYywxMi",
    "outputId": "047423ec-ce46-4c92-8c53-943e017300e8"
   },
   "outputs": [
    {
     "data": {
      "text/plain": [
       "count          93\n",
       "unique          6\n",
       "top       Midsize\n",
       "freq           22\n",
       "Name: Type, dtype: object"
      ]
     },
     "execution_count": 15,
     "metadata": {},
     "output_type": "execute_result"
    }
   ],
   "source": [
    "VehicleType.describe()\n"
   ]
  },
  {
   "cell_type": "code",
   "execution_count": 16,
   "metadata": {
    "colab": {
     "base_uri": "https://localhost:8080/"
    },
    "id": "ZdgW0KKtwxMi",
    "outputId": "3add332c-f346-4237-df38-95fd5df72c0e"
   },
   "outputs": [
    {
     "data": {
      "text/plain": [
       "0    front\n",
       "1    front\n",
       "2    front\n",
       "3    front\n",
       "4     rear\n",
       "Name: Drive Train, dtype: object"
      ]
     },
     "execution_count": 16,
     "metadata": {},
     "output_type": "execute_result"
    }
   ],
   "source": [
    "Train=df4[\"Drive Train\"]\n",
    "Train.head()"
   ]
  },
  {
   "cell_type": "code",
   "execution_count": 17,
   "metadata": {
    "colab": {
     "base_uri": "https://localhost:8080/"
    },
    "id": "B4HXsaFJwxMi",
    "outputId": "7091d3ca-8be2-4914-b005-374cad24e5a5"
   },
   "outputs": [
    {
     "data": {
      "text/plain": [
       "count        93\n",
       "unique        3\n",
       "top       front\n",
       "freq         67\n",
       "Name: Drive Train, dtype: object"
      ]
     },
     "execution_count": 17,
     "metadata": {},
     "output_type": "execute_result"
    }
   ],
   "source": [
    "Train.describe()"
   ]
  },
  {
   "cell_type": "markdown",
   "metadata": {
    "id": "5gtSWvyQwxMi"
   },
   "source": [
    " ...and two quantitative variables, __Max Price__ and __Power in HP__"
   ]
  },
  {
   "cell_type": "code",
   "execution_count": 18,
   "metadata": {
    "colab": {
     "base_uri": "https://localhost:8080/"
    },
    "id": "e6xuQknvwxMi",
    "outputId": "50249810-c689-4f14-d67d-4421ef4d9292"
   },
   "outputs": [
    {
     "data": {
      "text/plain": [
       "0    18.8\n",
       "1    38.7\n",
       "2    32.3\n",
       "3    44.6\n",
       "4    36.2\n",
       "Name: Max Price, dtype: float64"
      ]
     },
     "execution_count": 18,
     "metadata": {},
     "output_type": "execute_result"
    }
   ],
   "source": [
    "MaxPrice=df4[\"Max Price\"]\n",
    "MaxPrice.head()"
   ]
  },
  {
   "cell_type": "code",
   "execution_count": 19,
   "metadata": {
    "colab": {
     "base_uri": "https://localhost:8080/"
    },
    "id": "iYO6n6_lwxMi",
    "outputId": "4b542493-f24f-48e7-80ae-01d51bda8a51"
   },
   "outputs": [
    {
     "data": {
      "text/plain": [
       "count    93.000000\n",
       "mean     21.898925\n",
       "std      11.030457\n",
       "min       7.900000\n",
       "25%      14.700000\n",
       "50%      19.600000\n",
       "75%      25.300000\n",
       "max      80.000000\n",
       "Name: Max Price, dtype: float64"
      ]
     },
     "execution_count": 19,
     "metadata": {},
     "output_type": "execute_result"
    }
   ],
   "source": [
    "MaxPrice.describe()"
   ]
  },
  {
   "cell_type": "markdown",
   "metadata": {
    "id": "NrU2G_ELwxMj"
   },
   "source": [
    " "
   ]
  },
  {
   "cell_type": "code",
   "execution_count": 21,
   "metadata": {
    "colab": {
     "base_uri": "https://localhost:8080/"
    },
    "id": "Jp3MbNXawxMj",
    "outputId": "9a8c1140-7a3e-4372-8432-b180ca30aeb4"
   },
   "outputs": [
    {
     "data": {
      "text/plain": [
       "0    140\n",
       "1    200\n",
       "2    172\n",
       "3    172\n",
       "4    208\n",
       "Name: Horsepower, dtype: int64"
      ]
     },
     "execution_count": 21,
     "metadata": {},
     "output_type": "execute_result"
    }
   ],
   "source": [
    "HorsePw=df4[\"Horsepower\"]\n",
    "HorsePw.head()"
   ]
  },
  {
   "cell_type": "code",
   "execution_count": 22,
   "metadata": {
    "colab": {
     "base_uri": "https://localhost:8080/"
    },
    "id": "raAVoX9YwxMj",
    "outputId": "c0c5b847-2b8f-4698-f44b-4ef53d07c5d1"
   },
   "outputs": [
    {
     "data": {
      "text/plain": [
       "count     93.000000\n",
       "mean     143.827957\n",
       "std       52.374410\n",
       "min       55.000000\n",
       "25%      103.000000\n",
       "50%      140.000000\n",
       "75%      170.000000\n",
       "max      300.000000\n",
       "Name: Horsepower, dtype: float64"
      ]
     },
     "execution_count": 22,
     "metadata": {},
     "output_type": "execute_result"
    }
   ],
   "source": [
    "HorsePw.describe()"
   ]
  },
  {
   "cell_type": "markdown",
   "metadata": {
    "id": "AzdX4JLYwxMj"
   },
   "source": [
    "### Statistical report"
   ]
  },
  {
   "cell_type": "markdown",
   "metadata": {
    "id": "tRhh0LDFwxMj",
    "tags": []
   },
   "source": [
    "#### Qualitative variables\n",
    "\n",
    "\n",
    "Frequency tables:"
   ]
  },
  {
   "cell_type": "code",
   "execution_count": 23,
   "metadata": {
    "colab": {
     "base_uri": "https://localhost:8080/"
    },
    "id": "AqU7I9N2wxMj",
    "outputId": "49f13777-6399-4ea5-86fd-45a133cfdbee"
   },
   "outputs": [
    {
     "data": {
      "text/plain": [
       "Midsize    22\n",
       "Small      21\n",
       "Compact    16\n",
       "Sporty     14\n",
       "Large      11\n",
       "Van         9\n",
       "Name: Type, dtype: int64"
      ]
     },
     "execution_count": 23,
     "metadata": {},
     "output_type": "execute_result"
    }
   ],
   "source": [
    "pd.value_counts(VehicleType)"
   ]
  },
  {
   "cell_type": "code",
   "execution_count": 24,
   "metadata": {
    "colab": {
     "base_uri": "https://localhost:8080/"
    },
    "id": "KDiF8MRKwxMj",
    "outputId": "a82efe81-14a6-4b8e-d112-58f607e36457"
   },
   "outputs": [
    {
     "data": {
      "text/plain": [
       "Midsize    23.655914\n",
       "Small      22.580645\n",
       "Compact    17.204301\n",
       "Sporty     15.053763\n",
       "Large      11.827957\n",
       "Van         9.677419\n",
       "Name: Type, dtype: float64"
      ]
     },
     "execution_count": 24,
     "metadata": {},
     "output_type": "execute_result"
    }
   ],
   "source": [
    "# Percent version\n",
    "100 * VehicleType.value_counts() / len(VehicleType)"
   ]
  },
  {
   "cell_type": "markdown",
   "metadata": {
    "id": "QA37sFLXwxMk"
   },
   "source": [
    " "
   ]
  },
  {
   "cell_type": "markdown",
   "metadata": {
    "id": "3a3UTQqAwxMk"
   },
   "source": [
    "Absolute frequency plot bars"
   ]
  },
  {
   "cell_type": "code",
   "execution_count": 25,
   "metadata": {
    "colab": {
     "base_uri": "https://localhost:8080/",
     "height": 316
    },
    "id": "lphanWXlwxMk",
    "outputId": "d686cee0-b880-4f9c-e8e9-5e42b25f7ed5"
   },
   "outputs": [
    {
     "data": {
      "image/png": "[encoded data removed]",
      "text/plain": [
       "<Figure size 432x288 with 1 Axes>"
      ]
     },
     "metadata": {
      "needs_background": "light"
     },
     "output_type": "display_data"
    }
   ],
   "source": [
    "plot = VehicleType.value_counts().plot(kind='bar', title='Vehicle Type')"
   ]
  },
  {
   "cell_type": "markdown",
   "metadata": {
    "id": "xvcJ7rCSwxMk"
   },
   "source": [
    "Relative frequency plot bars"
   ]
  },
  {
   "cell_type": "code",
   "execution_count": 26,
   "metadata": {
    "colab": {
     "base_uri": "https://localhost:8080/",
     "height": 316
    },
    "id": "JpD9nYOvwxMk",
    "outputId": "afa89cc6-a35e-49b1-d77b-1b8c849024a3"
   },
   "outputs": [
    {
     "data": {
      "image/png": "[encoded data removed]",
      "text/plain": [
       "<Figure size 432x288 with 1 Axes>"
      ]
     },
     "metadata": {
      "needs_background": "light"
     },
     "output_type": "display_data"
    }
   ],
   "source": [
    "plot = (100 * VehicleType.value_counts() / len(VehicleType)).plot(kind='bar', title='Vehicle Type (%)')"
   ]
  },
  {
   "cell_type": "markdown",
   "metadata": {
    "id": "d0IqITn8wxMk"
   },
   "source": [
    "Pie diagram for vehicle type:"
   ]
  },
  {
   "cell_type": "code",
   "execution_count": 27,
   "metadata": {
    "colab": {
     "base_uri": "https://localhost:8080/",
     "height": 373
    },
    "id": "-bktXfeEwxMk",
    "outputId": "d87092b2-f7da-41eb-8100-975b8c003f6c"
   },
   "outputs": [
    {
     "data": {
      "image/png": "[encoded data removed]",
      "text/plain": [
       "<Figure size 432x432 with 1 Axes>"
      ]
     },
     "metadata": {},
     "output_type": "display_data"
    }
   ],
   "source": [
    "#Autoporcentaje auotpct = formato, dos decimales unicamente\n",
    "plot = VehicleType.value_counts().plot(kind='pie', autopct='%.2f', figsize=(6, 6), title='Vehicle Type')"
   ]
  },
  {
   "cell_type": "markdown",
   "metadata": {
    "id": "DOcI_BxkwxMl",
    "tags": []
   },
   "source": [
    "#### Quantitative variables\n",
    "\n",
    "\n",
    "Histogram for maximum price"
   ]
  },
  {
   "cell_type": "code",
   "execution_count": 28,
   "metadata": {
    "colab": {
     "base_uri": "https://localhost:8080/"
    },
    "id": "elyYxTPowxMl",
    "outputId": "3fe53035-b802-491a-fc2b-fe61b1cf8ab3"
   },
   "outputs": [
    {
     "name": "stdout",
     "output_type": "stream",
     "text": [
      "(17.9, 27.9]    36\n",
      "(7.9, 17.9]     35\n",
      "(27.9, 37.9]    15\n",
      "(37.9, 47.9]     4\n",
      "(47.9, 57.9]     1\n",
      "(67.9, 77.9]     0\n",
      "(57.9, 67.9]     0\n",
      "Name: Max Price, dtype: int64\n"
     ]
    }
   ],
   "source": [
    "import numpy as np\n",
    "\n",
    "bins = np.arange(7.9, 80, 10)\n",
    "\n",
    "freq = pd.cut(MaxPrice, bins)\n",
    "\n",
    "table_freq = pd.value_counts(freq)\n",
    "print(table_freq)"
   ]
  },
  {
   "cell_type": "code",
   "execution_count": 29,
   "metadata": {
    "colab": {
     "base_uri": "https://localhost:8080/",
     "height": 279
    },
    "id": "556to84dwxMl",
    "outputId": "53527dcc-3763-4a8f-dfd1-c1a239a8a1eb"
   },
   "outputs": [
    {
     "data": {
      "image/png": "[encoded data removed]",
      "text/plain": [
       "<Figure size 432x288 with 1 Axes>"
      ]
     },
     "metadata": {
      "needs_background": "light"
     },
     "output_type": "display_data"
    }
   ],
   "source": [
    "import matplotlib.pyplot as plt\n",
    "\n",
    "MaxPrice.hist(bins=10) \n",
    "\n",
    "plt.xlabel(\"Maximum Price\")\n",
    "plt.ylabel(\"Frecuency\")\n",
    "plt.show()"
   ]
  },
  {
   "cell_type": "markdown",
   "metadata": {
    "id": "OUrS9kyOwxMl"
   },
   "source": [
    "  "
   ]
  },
  {
   "cell_type": "markdown",
   "metadata": {
    "id": "CXFV8CVywxMl",
    "tags": []
   },
   "source": [
    "### Bivariate analyis\n",
    "\n",
    "#### Qualitative variables\n",
    "Contingency table __Vehicle type__ vs. __Drive train__"
   ]
  },
  {
   "cell_type": "code",
   "execution_count": 30,
   "metadata": {
    "colab": {
     "base_uri": "https://localhost:8080/",
     "height": 203
    },
    "id": "5e9soO-OwxMl",
    "outputId": "b234e5c3-f259-4d86-f10c-bf536730fab1"
   },
   "outputs": [
    {
     "data": {
      "text/html": [
       "<div>\n",
       "<style scoped>\n",
       "    .dataframe tbody tr th:only-of-type {\n",
       "        vertical-align: middle;\n",
       "    }\n",
       "\n",
       "    .dataframe tbody tr th {\n",
       "        vertical-align: top;\n",
       "    }\n",
       "\n",
       "    .dataframe thead th {\n",
       "        text-align: right;\n",
       "    }\n",
       "</style>\n",
       "<table border=\"1\" class=\"dataframe\">\n",
       "  <thead>\n",
       "    <tr style=\"text-align: right;\">\n",
       "      <th>Type</th>\n",
       "      <th>Compact</th>\n",
       "      <th>Large</th>\n",
       "      <th>Midsize</th>\n",
       "      <th>Small</th>\n",
       "      <th>Sporty</th>\n",
       "      <th>Van</th>\n",
       "      <th>All</th>\n",
       "    </tr>\n",
       "    <tr>\n",
       "      <th>Drive Train</th>\n",
       "      <th></th>\n",
       "      <th></th>\n",
       "      <th></th>\n",
       "      <th></th>\n",
       "      <th></th>\n",
       "      <th></th>\n",
       "      <th></th>\n",
       "    </tr>\n",
       "  </thead>\n",
       "  <tbody>\n",
       "    <tr>\n",
       "      <th>all</th>\n",
       "      <td>1</td>\n",
       "      <td>0</td>\n",
       "      <td>0</td>\n",
       "      <td>2</td>\n",
       "      <td>2</td>\n",
       "      <td>5</td>\n",
       "      <td>10</td>\n",
       "    </tr>\n",
       "    <tr>\n",
       "      <th>front</th>\n",
       "      <td>13</td>\n",
       "      <td>7</td>\n",
       "      <td>17</td>\n",
       "      <td>19</td>\n",
       "      <td>7</td>\n",
       "      <td>4</td>\n",
       "      <td>67</td>\n",
       "    </tr>\n",
       "    <tr>\n",
       "      <th>rear</th>\n",
       "      <td>2</td>\n",
       "      <td>4</td>\n",
       "      <td>5</td>\n",
       "      <td>0</td>\n",
       "      <td>5</td>\n",
       "      <td>0</td>\n",
       "      <td>16</td>\n",
       "    </tr>\n",
       "    <tr>\n",
       "      <th>All</th>\n",
       "      <td>16</td>\n",
       "      <td>11</td>\n",
       "      <td>22</td>\n",
       "      <td>21</td>\n",
       "      <td>14</td>\n",
       "      <td>9</td>\n",
       "      <td>93</td>\n",
       "    </tr>\n",
       "  </tbody>\n",
       "</table>\n",
       "</div>"
      ],
      "text/plain": [
       "Type         Compact  Large  Midsize  Small  Sporty  Van  All\n",
       "Drive Train                                                  \n",
       "all                1      0        0      2       2    5   10\n",
       "front             13      7       17     19       7    4   67\n",
       "rear               2      4        5      0       5    0   16\n",
       "All               16     11       22     21      14    9   93"
      ]
     },
     "execution_count": 30,
     "metadata": {},
     "output_type": "execute_result"
    }
   ],
   "source": [
    "pd.crosstab(index=Train, columns=VehicleType, margins=True)"
   ]
  },
  {
   "cell_type": "code",
   "execution_count": 31,
   "metadata": {
    "colab": {
     "base_uri": "https://localhost:8080/",
     "height": 203
    },
    "id": "SQWUypUTwxMm",
    "outputId": "9d7872c4-8632-4ecc-8383-76fad004dae6"
   },
   "outputs": [
    {
     "data": {
      "text/html": [
       "<div>\n",
       "<style scoped>\n",
       "    .dataframe tbody tr th:only-of-type {\n",
       "        vertical-align: middle;\n",
       "    }\n",
       "\n",
       "    .dataframe tbody tr th {\n",
       "        vertical-align: top;\n",
       "    }\n",
       "\n",
       "    .dataframe thead th {\n",
       "        text-align: right;\n",
       "    }\n",
       "</style>\n",
       "<table border=\"1\" class=\"dataframe\">\n",
       "  <thead>\n",
       "    <tr style=\"text-align: right;\">\n",
       "      <th>Type</th>\n",
       "      <th>Compact</th>\n",
       "      <th>Large</th>\n",
       "      <th>Midsize</th>\n",
       "      <th>Small</th>\n",
       "      <th>Sporty</th>\n",
       "      <th>Van</th>\n",
       "      <th>All</th>\n",
       "    </tr>\n",
       "    <tr>\n",
       "      <th>Drive Train</th>\n",
       "      <th></th>\n",
       "      <th></th>\n",
       "      <th></th>\n",
       "      <th></th>\n",
       "      <th></th>\n",
       "      <th></th>\n",
       "      <th></th>\n",
       "    </tr>\n",
       "  </thead>\n",
       "  <tbody>\n",
       "    <tr>\n",
       "      <th>all</th>\n",
       "      <td>1.075269</td>\n",
       "      <td>0.000000</td>\n",
       "      <td>0.000000</td>\n",
       "      <td>2.150538</td>\n",
       "      <td>2.150538</td>\n",
       "      <td>5.376344</td>\n",
       "      <td>10.752688</td>\n",
       "    </tr>\n",
       "    <tr>\n",
       "      <th>front</th>\n",
       "      <td>13.978495</td>\n",
       "      <td>7.526882</td>\n",
       "      <td>18.279570</td>\n",
       "      <td>20.430108</td>\n",
       "      <td>7.526882</td>\n",
       "      <td>4.301075</td>\n",
       "      <td>72.043011</td>\n",
       "    </tr>\n",
       "    <tr>\n",
       "      <th>rear</th>\n",
       "      <td>2.150538</td>\n",
       "      <td>4.301075</td>\n",
       "      <td>5.376344</td>\n",
       "      <td>0.000000</td>\n",
       "      <td>5.376344</td>\n",
       "      <td>0.000000</td>\n",
       "      <td>17.204301</td>\n",
       "    </tr>\n",
       "    <tr>\n",
       "      <th>All</th>\n",
       "      <td>17.204301</td>\n",
       "      <td>11.827957</td>\n",
       "      <td>23.655914</td>\n",
       "      <td>22.580645</td>\n",
       "      <td>15.053763</td>\n",
       "      <td>9.677419</td>\n",
       "      <td>100.000000</td>\n",
       "    </tr>\n",
       "  </tbody>\n",
       "</table>\n",
       "</div>"
      ],
      "text/plain": [
       "Type           Compact      Large    Midsize  ...     Sporty       Van         All\n",
       "Drive Train                                   ...                                 \n",
       "all           1.075269   0.000000   0.000000  ...   2.150538  5.376344   10.752688\n",
       "front        13.978495   7.526882  18.279570  ...   7.526882  4.301075   72.043011\n",
       "rear          2.150538   4.301075   5.376344  ...   5.376344  0.000000   17.204301\n",
       "All          17.204301  11.827957  23.655914  ...  15.053763  9.677419  100.000000\n",
       "\n",
       "[4 rows x 7 columns]"
      ]
     },
     "execution_count": 31,
     "metadata": {},
     "output_type": "execute_result"
    }
   ],
   "source": [
    "## Relative version (percents)\n",
    "#convertir valores absolutos a porcentajes\n",
    "pd.crosstab(index=Train, columns=VehicleType, margins=True).apply(lambda r: r/len(VehicleType) *100, axis=1)"
   ]
  },
  {
   "cell_type": "markdown",
   "metadata": {
    "id": "4fYDxVQQwxMm"
   },
   "source": [
    " "
   ]
  },
  {
   "cell_type": "markdown",
   "metadata": {
    "id": "wmCUleRgwxMm",
    "tags": []
   },
   "source": [
    "#### Comparative bars\n",
    "__Vehicle type__ vs. __Drive train__"
   ]
  },
  {
   "cell_type": "code",
   "execution_count": 32,
   "metadata": {
    "colab": {
     "base_uri": "https://localhost:8080/",
     "height": 314
    },
    "id": "E_A5QmJpwxMm",
    "outputId": "cbbb1496-8d0a-45da-e837-d2cac2f9bbd0"
   },
   "outputs": [
    {
     "data": {
      "image/png": "[encoded data removed]",
      "text/plain": [
       "<Figure size 432x288 with 1 Axes>"
      ]
     },
     "metadata": {
      "needs_background": "light"
     },
     "output_type": "display_data"
    }
   ],
   "source": [
    "plot = pd.crosstab(index=VehicleType, columns=Train, margins=True).apply(lambda r: r/r.sum() *100, axis=1).plot(kind='bar')"
   ]
  },
  {
   "cell_type": "markdown",
   "metadata": {
    "id": "ubsQdKJAwxMm",
    "tags": []
   },
   "source": [
    "#### Stacked bars\n",
    "__Vehicle type__ vs. __Drive train__"
   ]
  },
  {
   "cell_type": "code",
   "execution_count": 33,
   "metadata": {
    "colab": {
     "base_uri": "https://localhost:8080/",
     "height": 314
    },
    "id": "20JmUS0swxMm",
    "outputId": "01140205-0542-4489-b6a3-12fcf8764822"
   },
   "outputs": [
    {
     "data": {
      "image/png": "[encoded data removed]",
      "text/plain": [
       "<Figure size 432x288 with 1 Axes>"
      ]
     },
     "metadata": {
      "needs_background": "light"
     },
     "output_type": "display_data"
    }
   ],
   "source": [
    "# Gráfico de barras apiladas de de TipoVehi según Traccion:\n",
    "#barras apiladas\n",
    "plot = pd.crosstab(index=VehicleType, columns=Train, margins=True).apply(lambda r: r/r.sum() *100,axis=0).plot(kind='bar', stacked=True)"
   ]
  },
  {
   "cell_type": "markdown",
   "metadata": {
    "id": "opZX8ByvwxMn",
    "tags": []
   },
   "source": [
    "### Quantitative variable analysis\n",
    "\n",
    "#### Box plots for grouped data\n",
    "__Power in HP__ vs __Drive train__"
   ]
  },
  {
   "cell_type": "code",
   "execution_count": 34,
   "metadata": {
    "colab": {
     "base_uri": "https://localhost:8080/",
     "height": 312
    },
    "id": "AXdtDor2wxMn",
    "outputId": "37fdb710-8791-4c7c-8cfe-f4d29183ffec",
    "tags": []
   },
   "outputs": [
    {
     "data": {
      "text/plain": [
       "Text(0.5, 1.0, 'Distribution of Power according to Drive Train')"
      ]
     },
     "execution_count": 34,
     "metadata": {},
     "output_type": "execute_result"
    },
    {
     "data": {
      "image/png": "[encoded data removed]",
      "text/plain": [
       "<Figure size 432x288 with 1 Axes>"
      ]
     },
     "metadata": {
      "needs_background": "light"
     },
     "output_type": "display_data"
    }
   ],
   "source": [
    "#Hacia donde tiende la potencia dependiendo de como se implementa la traccion\n",
    "import numpy as np\n",
    "import seaborn as sns\n",
    "import matplotlib.pyplot as plt\n",
    "cajas=sns.boxplot(y=list(HorsePw), x=(Train), hue=Train)\n",
    "cajas.set_title(\"Distribution of Power according to Drive Train\")"
   ]
  }
 ],
 "metadata": {
  "colab": {
   "name": "DescriptiveStats_Juan Puyo.ipynb",
   "provenance": []
  },
  "kernelspec": {
   "display_name": "Python 3",
   "language": "python",
   "name": "python3"
  },
  "language_info": {
   "codemirror_mode": {
    "name": "ipython",
    "version": 3
   },
   "file_extension": ".py",
   "mimetype": "text/x-python",
   "name": "python",
   "nbconvert_exporter": "python",
   "pygments_lexer": "ipython3",
   "version": "3.8.5"
  }
 },
 "nbformat": 4,
 "nbformat_minor": 1
}
